{
  "nbformat": 4,
  "nbformat_minor": 0,
  "metadata": {
    "colab": {
      "provenance": [],
      "gpuType": "T4"
    },
    "kernelspec": {
      "name": "python3",
      "display_name": "Python 3"
    },
    "language_info": {
      "name": "python"
    },
    "accelerator": "GPU"
  },
  "cells": [
    {
      "cell_type": "markdown",
      "source": [
        "# **Detecting Logo of \"جمهورية مصر العربية : بطاقة تحقيق الشخصية\" in Egyptian IDs and Inpainting It**"
      ],
      "metadata": {
        "id": "fD8BZk-aiKPh"
      }
    },
    {
      "cell_type": "markdown",
      "source": [
        "## **1) First Method:** Keras OCR\n",
        "\n"
      ],
      "metadata": {
        "id": "7dVabNc3ikZT"
      }
    },
    {
      "cell_type": "markdown",
      "source": [
        "* Here, I'm just using keras ocr ready tool for object detection without any fine\n",
        "tuning\n",
        "* After detecting the bounding box , we inpaint it using background color"
      ],
      "metadata": {
        "id": "uVErBPW8iJEZ"
      }
    },
    {
      "cell_type": "code",
      "source": [
        "#Getting the data in runtime\n",
        "!git clone https://github.com/Nagwa-Ahmed/Logo-Detection-in-Egyptian-IDs.git"
      ],
      "metadata": {
        "id": "aA3USIJhWsPQ",
        "colab": {
          "base_uri": "https://localhost:8080/"
        },
        "outputId": "09d84a3e-c267-4379-e204-3c79bdcb2022"
      },
      "execution_count": null,
      "outputs": [
        {
          "output_type": "stream",
          "name": "stdout",
          "text": [
            "Cloning into 'Logo-Detection-in-Egyptian-IDs'...\n",
            "remote: Enumerating objects: 21, done.\u001b[K\n",
            "remote: Counting objects: 100% (21/21), done.\u001b[K\n",
            "remote: Compressing objects: 100% (20/20), done.\u001b[K\n",
            "remote: Total 21 (delta 2), reused 0 (delta 0), pack-reused 0\u001b[K\n",
            "Receiving objects: 100% (21/21), 3.83 MiB | 17.04 MiB/s, done.\n",
            "Resolving deltas: 100% (2/2), done.\n"
          ]
        }
      ]
    },
    {
      "cell_type": "code",
      "source": [
        "!pip install roboflow"
      ],
      "metadata": {
        "colab": {
          "base_uri": "https://localhost:8080/",
          "height": 1000
        },
        "id": "4-edcp4zYMLf",
        "outputId": "99ebac3c-a0f0-4aeb-d91a-b249e7630a7d"
      },
      "execution_count": 1,
      "outputs": [
        {
          "output_type": "stream",
          "name": "stdout",
          "text": [
            "Collecting roboflow\n",
            "  Downloading roboflow-1.1.29-py3-none-any.whl (74 kB)\n",
            "\u001b[2K     \u001b[90m━━━━━━━━━━━━━━━━━━━━━━━━━━━━━━━━━━━━━━━━\u001b[0m \u001b[32m74.9/74.9 kB\u001b[0m \u001b[31m2.1 MB/s\u001b[0m eta \u001b[36m0:00:00\u001b[0m\n",
            "\u001b[?25hCollecting certifi==2023.7.22 (from roboflow)\n",
            "  Downloading certifi-2023.7.22-py3-none-any.whl (158 kB)\n",
            "\u001b[2K     \u001b[90m━━━━━━━━━━━━━━━━━━━━━━━━━━━━━━━━━━━━━━━━\u001b[0m \u001b[32m158.3/158.3 kB\u001b[0m \u001b[31m6.4 MB/s\u001b[0m eta \u001b[36m0:00:00\u001b[0m\n",
            "\u001b[?25hCollecting chardet==4.0.0 (from roboflow)\n",
            "  Downloading chardet-4.0.0-py2.py3-none-any.whl (178 kB)\n",
            "\u001b[2K     \u001b[90m━━━━━━━━━━━━━━━━━━━━━━━━━━━━━━━━━━━━━━━━\u001b[0m \u001b[32m178.7/178.7 kB\u001b[0m \u001b[31m9.5 MB/s\u001b[0m eta \u001b[36m0:00:00\u001b[0m\n",
            "\u001b[?25hCollecting cycler==0.10.0 (from roboflow)\n",
            "  Downloading cycler-0.10.0-py2.py3-none-any.whl (6.5 kB)\n",
            "Collecting idna==2.10 (from roboflow)\n",
            "  Downloading idna-2.10-py2.py3-none-any.whl (58 kB)\n",
            "\u001b[2K     \u001b[90m━━━━━━━━━━━━━━━━━━━━━━━━━━━━━━━━━━━━━━━━\u001b[0m \u001b[32m58.8/58.8 kB\u001b[0m \u001b[31m2.7 MB/s\u001b[0m eta \u001b[36m0:00:00\u001b[0m\n",
            "\u001b[?25hRequirement already satisfied: kiwisolver>=1.3.1 in /usr/local/lib/python3.10/dist-packages (from roboflow) (1.4.5)\n",
            "Requirement already satisfied: matplotlib in /usr/local/lib/python3.10/dist-packages (from roboflow) (3.7.1)\n",
            "Requirement already satisfied: numpy>=1.18.5 in /usr/local/lib/python3.10/dist-packages (from roboflow) (1.25.2)\n",
            "Collecting opencv-python-headless==4.8.0.74 (from roboflow)\n",
            "  Downloading opencv_python_headless-4.8.0.74-cp37-abi3-manylinux_2_17_x86_64.manylinux2014_x86_64.whl (49.1 MB)\n",
            "\u001b[2K     \u001b[90m━━━━━━━━━━━━━━━━━━━━━━━━━━━━━━━━━━━━━━━━\u001b[0m \u001b[32m49.1/49.1 MB\u001b[0m \u001b[31m9.0 MB/s\u001b[0m eta \u001b[36m0:00:00\u001b[0m\n",
            "\u001b[?25hRequirement already satisfied: Pillow>=7.1.2 in /usr/local/lib/python3.10/dist-packages (from roboflow) (9.4.0)\n",
            "Requirement already satisfied: python-dateutil in /usr/local/lib/python3.10/dist-packages (from roboflow) (2.8.2)\n",
            "Collecting python-dotenv (from roboflow)\n",
            "  Downloading python_dotenv-1.0.1-py3-none-any.whl (19 kB)\n",
            "Requirement already satisfied: requests in /usr/local/lib/python3.10/dist-packages (from roboflow) (2.31.0)\n",
            "Requirement already satisfied: six in /usr/local/lib/python3.10/dist-packages (from roboflow) (1.16.0)\n",
            "Requirement already satisfied: urllib3>=1.26.6 in /usr/local/lib/python3.10/dist-packages (from roboflow) (2.0.7)\n",
            "Requirement already satisfied: tqdm>=4.41.0 in /usr/local/lib/python3.10/dist-packages (from roboflow) (4.66.4)\n",
            "Requirement already satisfied: PyYAML>=5.3.1 in /usr/local/lib/python3.10/dist-packages (from roboflow) (6.0.1)\n",
            "Collecting requests-toolbelt (from roboflow)\n",
            "  Downloading requests_toolbelt-1.0.0-py2.py3-none-any.whl (54 kB)\n",
            "\u001b[2K     \u001b[90m━━━━━━━━━━━━━━━━━━━━━━━━━━━━━━━━━━━━━━━━\u001b[0m \u001b[32m54.5/54.5 kB\u001b[0m \u001b[31m4.4 MB/s\u001b[0m eta \u001b[36m0:00:00\u001b[0m\n",
            "\u001b[?25hCollecting python-magic (from roboflow)\n",
            "  Downloading python_magic-0.4.27-py2.py3-none-any.whl (13 kB)\n",
            "Requirement already satisfied: contourpy>=1.0.1 in /usr/local/lib/python3.10/dist-packages (from matplotlib->roboflow) (1.2.1)\n",
            "Requirement already satisfied: fonttools>=4.22.0 in /usr/local/lib/python3.10/dist-packages (from matplotlib->roboflow) (4.51.0)\n",
            "Requirement already satisfied: packaging>=20.0 in /usr/local/lib/python3.10/dist-packages (from matplotlib->roboflow) (24.0)\n",
            "Requirement already satisfied: pyparsing>=2.3.1 in /usr/local/lib/python3.10/dist-packages (from matplotlib->roboflow) (3.1.2)\n",
            "Requirement already satisfied: charset-normalizer<4,>=2 in /usr/local/lib/python3.10/dist-packages (from requests->roboflow) (3.3.2)\n",
            "Installing collected packages: python-magic, python-dotenv, opencv-python-headless, idna, cycler, chardet, certifi, requests-toolbelt, roboflow\n",
            "  Attempting uninstall: opencv-python-headless\n",
            "    Found existing installation: opencv-python-headless 4.9.0.80\n",
            "    Uninstalling opencv-python-headless-4.9.0.80:\n",
            "      Successfully uninstalled opencv-python-headless-4.9.0.80\n",
            "  Attempting uninstall: idna\n",
            "    Found existing installation: idna 3.7\n",
            "    Uninstalling idna-3.7:\n",
            "      Successfully uninstalled idna-3.7\n",
            "  Attempting uninstall: cycler\n",
            "    Found existing installation: cycler 0.12.1\n",
            "    Uninstalling cycler-0.12.1:\n",
            "      Successfully uninstalled cycler-0.12.1\n",
            "  Attempting uninstall: chardet\n",
            "    Found existing installation: chardet 5.2.0\n",
            "    Uninstalling chardet-5.2.0:\n",
            "      Successfully uninstalled chardet-5.2.0\n",
            "  Attempting uninstall: certifi\n",
            "    Found existing installation: certifi 2024.2.2\n",
            "    Uninstalling certifi-2024.2.2:\n",
            "      Successfully uninstalled certifi-2024.2.2\n",
            "Successfully installed certifi-2023.7.22 chardet-4.0.0 cycler-0.10.0 idna-2.10 opencv-python-headless-4.8.0.74 python-dotenv-1.0.1 python-magic-0.4.27 requests-toolbelt-1.0.0 roboflow-1.1.29\n"
          ]
        },
        {
          "output_type": "display_data",
          "data": {
            "application/vnd.colab-display-data+json": {
              "pip_warning": {
                "packages": [
                  "certifi",
                  "cycler"
                ]
              },
              "id": "ca332c0b58cf4316a4af2d5847ec9b21"
            }
          },
          "metadata": {}
        }
      ]
    },
    {
      "cell_type": "code",
      "execution_count": 1,
      "metadata": {
        "colab": {
          "base_uri": "https://localhost:8080/"
        },
        "id": "gq0NKIUxEVNJ",
        "outputId": "5f73d2ca-15e7-4e3f-fabb-150a1788127e"
      },
      "outputs": [
        {
          "output_type": "stream",
          "name": "stdout",
          "text": [
            "Collecting keras-ocr\n",
            "  Downloading keras_ocr-0.9.3-py3-none-any.whl (42 kB)\n",
            "\u001b[2K     \u001b[90m━━━━━━━━━━━━━━━━━━━━━━━━━━━━━━━━━━━━━━━━\u001b[0m \u001b[32m42.3/42.3 kB\u001b[0m \u001b[31m1.5 MB/s\u001b[0m eta \u001b[36m0:00:00\u001b[0m\n",
            "\u001b[?25hRequirement already satisfied: editdistance in /usr/local/lib/python3.10/dist-packages (from keras-ocr) (0.6.2)\n",
            "Collecting efficientnet==1.0.0 (from keras-ocr)\n",
            "  Downloading efficientnet-1.0.0-py3-none-any.whl (17 kB)\n",
            "Collecting essential_generators (from keras-ocr)\n",
            "  Downloading essential_generators-1.0-py3-none-any.whl (9.5 MB)\n",
            "\u001b[2K     \u001b[90m━━━━━━━━━━━━━━━━━━━━━━━━━━━━━━━━━━━━━━━━\u001b[0m \u001b[32m9.5/9.5 MB\u001b[0m \u001b[31m23.2 MB/s\u001b[0m eta \u001b[36m0:00:00\u001b[0m\n",
            "\u001b[?25hRequirement already satisfied: fonttools in /usr/local/lib/python3.10/dist-packages (from keras-ocr) (4.51.0)\n",
            "Requirement already satisfied: imgaug in /usr/local/lib/python3.10/dist-packages (from keras-ocr) (0.4.0)\n",
            "Collecting pyclipper (from keras-ocr)\n",
            "  Downloading pyclipper-1.3.0.post5-cp310-cp310-manylinux_2_12_x86_64.manylinux2010_x86_64.whl (908 kB)\n",
            "\u001b[2K     \u001b[90m━━━━━━━━━━━━━━━━━━━━━━━━━━━━━━━━━━━━━━━━\u001b[0m \u001b[32m908.3/908.3 kB\u001b[0m \u001b[31m53.3 MB/s\u001b[0m eta \u001b[36m0:00:00\u001b[0m\n",
            "\u001b[?25hRequirement already satisfied: shapely in /usr/local/lib/python3.10/dist-packages (from keras-ocr) (2.0.4)\n",
            "Requirement already satisfied: tqdm in /usr/local/lib/python3.10/dist-packages (from keras-ocr) (4.66.4)\n",
            "Collecting validators (from keras-ocr)\n",
            "  Downloading validators-0.28.1-py3-none-any.whl (39 kB)\n",
            "Collecting keras-applications<=1.0.8,>=1.0.7 (from efficientnet==1.0.0->keras-ocr)\n",
            "  Downloading Keras_Applications-1.0.8-py3-none-any.whl (50 kB)\n",
            "\u001b[2K     \u001b[90m━━━━━━━━━━━━━━━━━━━━━━━━━━━━━━━━━━━━━━━━\u001b[0m \u001b[32m50.7/50.7 kB\u001b[0m \u001b[31m7.5 MB/s\u001b[0m eta \u001b[36m0:00:00\u001b[0m\n",
            "\u001b[?25hRequirement already satisfied: scikit-image in /usr/local/lib/python3.10/dist-packages (from efficientnet==1.0.0->keras-ocr) (0.19.3)\n",
            "Requirement already satisfied: six in /usr/local/lib/python3.10/dist-packages (from imgaug->keras-ocr) (1.16.0)\n",
            "Requirement already satisfied: numpy>=1.15 in /usr/local/lib/python3.10/dist-packages (from imgaug->keras-ocr) (1.25.2)\n",
            "Requirement already satisfied: scipy in /usr/local/lib/python3.10/dist-packages (from imgaug->keras-ocr) (1.11.4)\n",
            "Requirement already satisfied: Pillow in /usr/local/lib/python3.10/dist-packages (from imgaug->keras-ocr) (9.4.0)\n",
            "Requirement already satisfied: matplotlib in /usr/local/lib/python3.10/dist-packages (from imgaug->keras-ocr) (3.7.1)\n",
            "Requirement already satisfied: opencv-python in /usr/local/lib/python3.10/dist-packages (from imgaug->keras-ocr) (4.8.0.76)\n",
            "Requirement already satisfied: imageio in /usr/local/lib/python3.10/dist-packages (from imgaug->keras-ocr) (2.31.6)\n",
            "Requirement already satisfied: h5py in /usr/local/lib/python3.10/dist-packages (from keras-applications<=1.0.8,>=1.0.7->efficientnet==1.0.0->keras-ocr) (3.9.0)\n",
            "Requirement already satisfied: networkx>=2.2 in /usr/local/lib/python3.10/dist-packages (from scikit-image->efficientnet==1.0.0->keras-ocr) (3.3)\n",
            "Requirement already satisfied: tifffile>=2019.7.26 in /usr/local/lib/python3.10/dist-packages (from scikit-image->efficientnet==1.0.0->keras-ocr) (2024.5.10)\n",
            "Requirement already satisfied: PyWavelets>=1.1.1 in /usr/local/lib/python3.10/dist-packages (from scikit-image->efficientnet==1.0.0->keras-ocr) (1.6.0)\n",
            "Requirement already satisfied: packaging>=20.0 in /usr/local/lib/python3.10/dist-packages (from scikit-image->efficientnet==1.0.0->keras-ocr) (24.0)\n",
            "Requirement already satisfied: contourpy>=1.0.1 in /usr/local/lib/python3.10/dist-packages (from matplotlib->imgaug->keras-ocr) (1.2.1)\n",
            "Requirement already satisfied: cycler>=0.10 in /usr/local/lib/python3.10/dist-packages (from matplotlib->imgaug->keras-ocr) (0.10.0)\n",
            "Requirement already satisfied: kiwisolver>=1.0.1 in /usr/local/lib/python3.10/dist-packages (from matplotlib->imgaug->keras-ocr) (1.4.5)\n",
            "Requirement already satisfied: pyparsing>=2.3.1 in /usr/local/lib/python3.10/dist-packages (from matplotlib->imgaug->keras-ocr) (3.1.2)\n",
            "Requirement already satisfied: python-dateutil>=2.7 in /usr/local/lib/python3.10/dist-packages (from matplotlib->imgaug->keras-ocr) (2.8.2)\n",
            "Installing collected packages: pyclipper, essential_generators, validators, keras-applications, efficientnet, keras-ocr\n",
            "Successfully installed efficientnet-1.0.0 essential_generators-1.0 keras-applications-1.0.8 keras-ocr-0.9.3 pyclipper-1.3.0.post5 validators-0.28.1\n",
            "Requirement already satisfied: numpy in /usr/local/lib/python3.10/dist-packages (1.25.2)\n",
            "Requirement already satisfied: opencv-python in /usr/local/lib/python3.10/dist-packages (4.8.0.76)\n",
            "Requirement already satisfied: numpy>=1.21.2 in /usr/local/lib/python3.10/dist-packages (from opencv-python) (1.25.2)\n",
            "\u001b[2K     \u001b[90m━━━━━━━━━━━━━━━━━━━━━━━━━━━━━━━━━━━━━━━━\u001b[0m \u001b[32m757.2/757.2 kB\u001b[0m \u001b[31m7.5 MB/s\u001b[0m eta \u001b[36m0:00:00\u001b[0m\n",
            "\u001b[?25h"
          ]
        }
      ],
      "source": [
        "#Installing all libraries needed in the notebook\n",
        "!pip install keras-ocr\n",
        "!pip install numpy\n",
        "!pip install opencv-python\n",
        "#!pip install os\n",
        "#!pip install glob\n",
        "!pip install ultralytics -q"
      ]
    },
    {
      "cell_type": "code",
      "source": [
        "#Importing required libraries\n",
        "import os\n",
        "import glob\n",
        "import cv2\n",
        "import keras_ocr\n",
        "import numpy as np\n",
        "from ultralytics import YOLO"
      ],
      "metadata": {
        "id": "CzC-8RxkYQlK"
      },
      "execution_count": 2,
      "outputs": []
    },
    {
      "cell_type": "code",
      "source": [
        "# Define the path to the directory containing images\n",
        "image_dir = '/content/Logo-Detection-in-Egyptian-IDs/input'\n",
        "\n",
        "# Use glob to list all image files in the directory\n",
        "image_paths = glob.glob(os.path.join(image_dir, '*.*'))\n",
        "\n",
        "#output images will be saved in the folder \"Output\"\n",
        "!rm -rf Output\n",
        "!mkdir Output\n"
      ],
      "metadata": {
        "id": "ADCIDjuinWdl"
      },
      "execution_count": null,
      "outputs": []
    },
    {
      "cell_type": "code",
      "source": [
        "for image_path in image_paths:\n",
        "\n",
        "  # Initializing the Keras OCR pipeline\n",
        "  pipeline = keras_ocr.pipeline.Pipeline()\n",
        "\n",
        "  image = keras_ocr.tools.read(image_path)\n",
        "\n",
        "  # Detecting text in the image\n",
        "  prediction_groups = pipeline.recognize([image])\n",
        "\n",
        "  text_block_to_remove = prediction_groups[0][0]\n",
        "  coordinates = text_block_to_remove[1]\n",
        "  # Increasing the size of the rectangle by a certain number of pixels since at the first time the rectangle was so small\n",
        "  padding = 20\n",
        "\n",
        "  # Calculate the minimum x-coordinate from the list of coordinates and subtract padding\n",
        "  x_min = int(min(coordinates, key=lambda x: x[0])[0]) - padding\n",
        "  y_min = int(min(coordinates, key=lambda x: x[1])[1]) - padding\n",
        "\n",
        "  # Calculate the maximum x-coordinate from the list of coordinates and add padding\n",
        "  x_max = int(max(coordinates, key=lambda x: x[0])[0]) + padding\n",
        "  y_max = int(max(coordinates, key=lambda x: x[1])[1]) + padding\n",
        "\n",
        "  # Create a larger mask for the selected text block\n",
        "  mask = np.zeros(image.shape[:2], dtype=np.uint8)\n",
        "  cv2.rectangle(mask, (x_min, y_min), (x_max, y_max), (255, 255, 255), -1)\n",
        "\n",
        "\n",
        "  # Inpainting the masked area\n",
        "  inpainted_image = cv2.inpaint(image, mask, 3, cv2.INPAINT_TELEA)\n",
        "\n",
        "  inpainted_image_rgb = cv2.cvtColor(inpainted_image, cv2.COLOR_BGR2RGB)\n",
        "\n",
        "  # Saveing the inpainted image\n",
        "  cv2.imwrite(f'/content/Output/{image_path[-6:-4]}inpainted.jpg', inpainted_image_rgb)\n",
        "\n",
        "  #output image name isn't the best but we can proceed with it :) :)\n"
      ],
      "metadata": {
        "colab": {
          "base_uri": "https://localhost:8080/"
        },
        "id": "tKVc1WrmFQgn",
        "outputId": "e58510cd-50bf-477e-8b40-de698d1d52ca"
      },
      "execution_count": null,
      "outputs": [
        {
          "output_type": "stream",
          "name": "stdout",
          "text": [
            "Looking for /root/.keras-ocr/craft_mlt_25k.h5\n",
            "Downloading /root/.keras-ocr/craft_mlt_25k.h5\n"
          ]
        },
        {
          "output_type": "stream",
          "name": "stderr",
          "text": [
            "WARNING:tensorflow:From /usr/local/lib/python3.10/dist-packages/tensorflow/python/util/dispatch.py:1260: resize_bilinear (from tensorflow.python.ops.image_ops_impl) is deprecated and will be removed in a future version.\n",
            "Instructions for updating:\n",
            "Use `tf.image.resize(...method=ResizeMethod.BILINEAR...)` instead.\n"
          ]
        },
        {
          "output_type": "stream",
          "name": "stdout",
          "text": [
            "Looking for /root/.keras-ocr/crnn_kurapan.h5\n",
            "Downloading /root/.keras-ocr/crnn_kurapan.h5\n",
            "1/1 [==============================] - 32s 32s/step\n",
            "1/1 [==============================] - 5s 5s/step\n",
            "Looking for /root/.keras-ocr/craft_mlt_25k.h5\n",
            "Looking for /root/.keras-ocr/crnn_kurapan.h5\n",
            "1/1 [==============================] - 32s 32s/step\n",
            "1/1 [==============================] - 6s 6s/step\n",
            "Looking for /root/.keras-ocr/craft_mlt_25k.h5\n",
            "Looking for /root/.keras-ocr/crnn_kurapan.h5\n"
          ]
        },
        {
          "output_type": "stream",
          "name": "stderr",
          "text": [
            "WARNING:tensorflow:5 out of the last 5 calls to <function Model.make_predict_function.<locals>.predict_function at 0x7b00a8200670> triggered tf.function retracing. Tracing is expensive and the excessive number of tracings could be due to (1) creating @tf.function repeatedly in a loop, (2) passing tensors with different shapes, (3) passing Python objects instead of tensors. For (1), please define your @tf.function outside of the loop. For (2), @tf.function has reduce_retracing=True option that can avoid unnecessary retracing. For (3), please refer to https://www.tensorflow.org/guide/function#controlling_retracing and https://www.tensorflow.org/api_docs/python/tf/function for  more details.\n"
          ]
        },
        {
          "output_type": "stream",
          "name": "stdout",
          "text": [
            "1/1 [==============================] - 14s 14s/step\n"
          ]
        },
        {
          "output_type": "stream",
          "name": "stderr",
          "text": [
            "WARNING:tensorflow:6 out of the last 6 calls to <function Model.make_predict_function.<locals>.predict_function at 0x7b008badc1f0> triggered tf.function retracing. Tracing is expensive and the excessive number of tracings could be due to (1) creating @tf.function repeatedly in a loop, (2) passing tensors with different shapes, (3) passing Python objects instead of tensors. For (1), please define your @tf.function outside of the loop. For (2), @tf.function has reduce_retracing=True option that can avoid unnecessary retracing. For (3), please refer to https://www.tensorflow.org/guide/function#controlling_retracing and https://www.tensorflow.org/api_docs/python/tf/function for  more details.\n"
          ]
        },
        {
          "output_type": "stream",
          "name": "stdout",
          "text": [
            "1/1 [==============================] - 5s 5s/step\n",
            "Looking for /root/.keras-ocr/craft_mlt_25k.h5\n",
            "Looking for /root/.keras-ocr/crnn_kurapan.h5\n",
            "1/1 [==============================] - 4s 4s/step\n",
            "1/1 [==============================] - 4s 4s/step\n",
            "Looking for /root/.keras-ocr/craft_mlt_25k.h5\n",
            "Looking for /root/.keras-ocr/crnn_kurapan.h5\n",
            "1/1 [==============================] - 15s 15s/step\n",
            "1/1 [==============================] - 3s 3s/step\n",
            "Looking for /root/.keras-ocr/craft_mlt_25k.h5\n",
            "Looking for /root/.keras-ocr/crnn_kurapan.h5\n",
            "1/1 [==============================] - 5s 5s/step\n",
            "1/1 [==============================] - 6s 6s/step\n",
            "Looking for /root/.keras-ocr/craft_mlt_25k.h5\n",
            "Looking for /root/.keras-ocr/crnn_kurapan.h5\n",
            "1/1 [==============================] - 5s 5s/step\n",
            "1/1 [==============================] - 6s 6s/step\n",
            "Looking for /root/.keras-ocr/craft_mlt_25k.h5\n",
            "Looking for /root/.keras-ocr/crnn_kurapan.h5\n",
            "1/1 [==============================] - 1s 511ms/step\n",
            "1/1 [==============================] - 6s 6s/step\n",
            "Looking for /root/.keras-ocr/craft_mlt_25k.h5\n",
            "Looking for /root/.keras-ocr/crnn_kurapan.h5\n",
            "1/1 [==============================] - 30s 30s/step\n",
            "1/1 [==============================] - 6s 6s/step\n"
          ]
        }
      ]
    },
    {
      "cell_type": "markdown",
      "source": [
        "It seems that even increasing the rectangle size couldn't improve the inpainting as expected so there are many alternatives:\n",
        "* To address this problem for IDs that has a background that causes problems in inpainting such as \"15\" image we can run a model that detects the ID itself and crop it from the background and then run our keras ocr and it may provide better results\n",
        "\n",
        "Unfortunately ,I couldn't apply this alternative but it seems promising for me :)\n",
        "* Finetuning a model such as YOLO\n",
        "\n",
        "It goes without saying that the second alternative needs more data (i.e. IDs ) so we have used a dataset from Kaggle\n",
        "[Dataset Link](https://www.kaggle.com/datasets/mostafaebrahiem/egyptian-ids)\n",
        "\n",
        "It has almost the same examples provided by as well as other images so it's used for finetuining"
      ],
      "metadata": {
        "id": "m-aLV0eQIKfP"
      }
    },
    {
      "cell_type": "markdown",
      "source": [
        "## **1) Second Method:** Finetuning YOLOv8\n"
      ],
      "metadata": {
        "id": "CX1VqAjVIEQv"
      }
    },
    {
      "cell_type": "markdown",
      "source": [
        "All the IDs in this dataset were split into 3 parts (train , validation and test) and they are annotated manually using roboflow\n",
        "test images are the images provided in the examples file, sure to prevent overfitting\n"
      ],
      "metadata": {
        "id": "m3mugCw_Kruk"
      }
    },
    {
      "cell_type": "code",
      "source": [
        "# we run this code snippet to get the data from roboflow\n",
        "from roboflow import Roboflow\n",
        "rf = Roboflow(api_key=\"hWm0puaFCdlch5xlNIP0\")\n",
        "project = rf.workspace(\"dsiti\").project(\"efg-abkzc\")\n",
        "version = project.version(3)\n",
        "dataset = version.download(\"yolov8\")\n"
      ],
      "metadata": {
        "id": "lm1DzimvLEuk",
        "colab": {
          "base_uri": "https://localhost:8080/"
        },
        "outputId": "d9451013-0f56-42e0-bdd9-cb1e54c8bbc8"
      },
      "execution_count": 3,
      "outputs": [
        {
          "output_type": "stream",
          "name": "stdout",
          "text": [
            "loading Roboflow workspace...\n",
            "loading Roboflow project...\n",
            "Dependency ultralytics==8.0.196 is required but found version=8.2.18, to fix: `pip install ultralytics==8.0.196`\n"
          ]
        },
        {
          "output_type": "stream",
          "name": "stderr",
          "text": [
            "Downloading Dataset Version Zip in efg-3 to yolov8:: 100%|██████████| 5124/5124 [00:00<00:00, 14833.53it/s]"
          ]
        },
        {
          "output_type": "stream",
          "name": "stdout",
          "text": [
            "\n"
          ]
        },
        {
          "output_type": "stream",
          "name": "stderr",
          "text": [
            "\n",
            "Extracting Dataset Version Zip to efg-3 in yolov8:: 100%|██████████| 258/258 [00:00<00:00, 4064.35it/s]\n"
          ]
        }
      ]
    },
    {
      "cell_type": "code",
      "source": [
        "# creating the model object\n",
        "model=YOLO('yolov8m.pt')"
      ],
      "metadata": {
        "id": "BrmdztgqL4Yu",
        "colab": {
          "base_uri": "https://localhost:8080/"
        },
        "outputId": "cf464adb-b0fd-42fe-f7ef-64940c1a9b7a"
      },
      "execution_count": 4,
      "outputs": [
        {
          "output_type": "stream",
          "name": "stdout",
          "text": [
            "Downloading https://github.com/ultralytics/assets/releases/download/v8.2.0/yolov8m.pt to 'yolov8m.pt'...\n"
          ]
        },
        {
          "output_type": "stream",
          "name": "stderr",
          "text": [
            "100%|██████████| 49.7M/49.7M [00:00<00:00, 108MB/s]\n"
          ]
        }
      ]
    },
    {
      "cell_type": "markdown",
      "source": [
        "<font color='red'> To run the following cell, you need to update paths of train and valid in **data.yaml**  </font>\n",
        "to be as follows\n",
        "`train: /content/efg-3/train/images`\n",
        "`val: /content/efg-3/valid/images`\n",
        "data.yaml exists in efg3 folder\n",
        "\n"
      ],
      "metadata": {
        "id": "yMaA5OX6Mlr_"
      }
    },
    {
      "cell_type": "code",
      "source": [
        "#Training(i.e. finetuning ) YOLO\n",
        "model.train(data='/content/efg-3/data.yaml',epochs=5)  # sure you can increase number of epochs but it can take more time and this may exceed colab free limi"
      ],
      "metadata": {
        "id": "-upCc9uyMGI2",
        "colab": {
          "base_uri": "https://localhost:8080/"
        },
        "outputId": "4757079e-7bc2-4233-88fb-90b89b7b5e95"
      },
      "execution_count": 6,
      "outputs": [
        {
          "output_type": "stream",
          "name": "stdout",
          "text": [
            "Ultralytics YOLOv8.2.18 🚀 Python-3.10.12 torch-2.2.1+cu121 CUDA:0 (Tesla T4, 15102MiB)\n",
            "\u001b[34m\u001b[1mengine/trainer: \u001b[0mtask=detect, mode=train, model=yolov8m.pt, data=/content/efg-3/data.yaml, epochs=5, time=None, patience=100, batch=16, imgsz=640, save=True, save_period=-1, cache=False, device=None, workers=8, project=None, name=train2, exist_ok=False, pretrained=True, optimizer=auto, verbose=True, seed=0, deterministic=True, single_cls=False, rect=False, cos_lr=False, close_mosaic=10, resume=False, amp=True, fraction=1.0, profile=False, freeze=None, multi_scale=False, overlap_mask=True, mask_ratio=4, dropout=0.0, val=True, split=val, save_json=False, save_hybrid=False, conf=None, iou=0.7, max_det=300, half=False, dnn=False, plots=True, source=None, vid_stride=1, stream_buffer=False, visualize=False, augment=False, agnostic_nms=False, classes=None, retina_masks=False, embed=None, show=False, save_frames=False, save_txt=False, save_conf=False, save_crop=False, show_labels=True, show_conf=True, show_boxes=True, line_width=None, format=torchscript, keras=False, optimize=False, int8=False, dynamic=False, simplify=False, opset=None, workspace=4, nms=False, lr0=0.01, lrf=0.01, momentum=0.937, weight_decay=0.0005, warmup_epochs=3.0, warmup_momentum=0.8, warmup_bias_lr=0.1, box=7.5, cls=0.5, dfl=1.5, pose=12.0, kobj=1.0, label_smoothing=0.0, nbs=64, hsv_h=0.015, hsv_s=0.7, hsv_v=0.4, degrees=0.0, translate=0.1, scale=0.5, shear=0.0, perspective=0.0, flipud=0.0, fliplr=0.5, bgr=0.0, mosaic=1.0, mixup=0.0, copy_paste=0.0, auto_augment=randaugment, erasing=0.4, crop_fraction=1.0, cfg=None, tracker=botsort.yaml, save_dir=runs/detect/train2\n",
            "Downloading https://ultralytics.com/assets/Arial.ttf to '/root/.config/Ultralytics/Arial.ttf'...\n"
          ]
        },
        {
          "output_type": "stream",
          "name": "stderr",
          "text": [
            "100%|██████████| 755k/755k [00:00<00:00, 24.5MB/s]"
          ]
        },
        {
          "output_type": "stream",
          "name": "stdout",
          "text": [
            "Overriding model.yaml nc=80 with nc=1\n",
            "\n",
            "                   from  n    params  module                                       arguments                     \n",
            "  0                  -1  1      1392  ultralytics.nn.modules.conv.Conv             [3, 48, 3, 2]                 \n",
            "  1                  -1  1     41664  ultralytics.nn.modules.conv.Conv             [48, 96, 3, 2]                \n",
            "  2                  -1  2    111360  ultralytics.nn.modules.block.C2f             [96, 96, 2, True]             \n",
            "  3                  -1  1    166272  ultralytics.nn.modules.conv.Conv             [96, 192, 3, 2]               \n",
            "  4                  -1  4    813312  ultralytics.nn.modules.block.C2f             [192, 192, 4, True]           \n",
            "  5                  -1  1    664320  ultralytics.nn.modules.conv.Conv             [192, 384, 3, 2]              \n",
            "  6                  -1  4   3248640  ultralytics.nn.modules.block.C2f             [384, 384, 4, True]           \n",
            "  7                  -1  1   1991808  ultralytics.nn.modules.conv.Conv             [384, 576, 3, 2]              \n",
            "  8                  -1  2   3985920  ultralytics.nn.modules.block.C2f             [576, 576, 2, True]           \n"
          ]
        },
        {
          "output_type": "stream",
          "name": "stderr",
          "text": [
            "\n"
          ]
        },
        {
          "output_type": "stream",
          "name": "stdout",
          "text": [
            "  9                  -1  1    831168  ultralytics.nn.modules.block.SPPF            [576, 576, 5]                 \n",
            " 10                  -1  1         0  torch.nn.modules.upsampling.Upsample         [None, 2, 'nearest']          \n",
            " 11             [-1, 6]  1         0  ultralytics.nn.modules.conv.Concat           [1]                           \n",
            " 12                  -1  2   1993728  ultralytics.nn.modules.block.C2f             [960, 384, 2]                 \n",
            " 13                  -1  1         0  torch.nn.modules.upsampling.Upsample         [None, 2, 'nearest']          \n",
            " 14             [-1, 4]  1         0  ultralytics.nn.modules.conv.Concat           [1]                           \n",
            " 15                  -1  2    517632  ultralytics.nn.modules.block.C2f             [576, 192, 2]                 \n",
            " 16                  -1  1    332160  ultralytics.nn.modules.conv.Conv             [192, 192, 3, 2]              \n",
            " 17            [-1, 12]  1         0  ultralytics.nn.modules.conv.Concat           [1]                           \n",
            " 18                  -1  2   1846272  ultralytics.nn.modules.block.C2f             [576, 384, 2]                 \n",
            " 19                  -1  1   1327872  ultralytics.nn.modules.conv.Conv             [384, 384, 3, 2]              \n",
            " 20             [-1, 9]  1         0  ultralytics.nn.modules.conv.Concat           [1]                           \n",
            " 21                  -1  2   4207104  ultralytics.nn.modules.block.C2f             [960, 576, 2]                 \n",
            " 22        [15, 18, 21]  1   3776275  ultralytics.nn.modules.head.Detect           [1, [192, 384, 576]]          \n",
            "Model summary: 295 layers, 25856899 parameters, 25856883 gradients, 79.1 GFLOPs\n",
            "\n",
            "Transferred 469/475 items from pretrained weights\n",
            "\u001b[34m\u001b[1mTensorBoard: \u001b[0mStart with 'tensorboard --logdir runs/detect/train2', view at http://localhost:6006/\n",
            "Freezing layer 'model.22.dfl.conv.weight'\n",
            "\u001b[34m\u001b[1mAMP: \u001b[0mrunning Automatic Mixed Precision (AMP) checks with YOLOv8n...\n",
            "Downloading https://github.com/ultralytics/assets/releases/download/v8.2.0/yolov8n.pt to 'yolov8n.pt'...\n"
          ]
        },
        {
          "output_type": "stream",
          "name": "stderr",
          "text": [
            "100%|██████████| 6.23M/6.23M [00:00<00:00, 92.3MB/s]\n"
          ]
        },
        {
          "output_type": "stream",
          "name": "stdout",
          "text": [
            "\u001b[34m\u001b[1mAMP: \u001b[0mchecks passed ✅\n"
          ]
        },
        {
          "output_type": "stream",
          "name": "stderr",
          "text": [
            "\u001b[34m\u001b[1mtrain: \u001b[0mScanning /content/efg-3/train/labels... 102 images, 0 backgrounds, 0 corrupt: 100%|██████████| 102/102 [00:00<00:00, 1523.62it/s]"
          ]
        },
        {
          "output_type": "stream",
          "name": "stdout",
          "text": [
            "\u001b[34m\u001b[1mtrain: \u001b[0mNew cache created: /content/efg-3/train/labels.cache\n"
          ]
        },
        {
          "output_type": "stream",
          "name": "stderr",
          "text": [
            "\n"
          ]
        },
        {
          "output_type": "stream",
          "name": "stdout",
          "text": [
            "\u001b[34m\u001b[1malbumentations: \u001b[0mBlur(p=0.01, blur_limit=(3, 7)), MedianBlur(p=0.01, blur_limit=(3, 7)), ToGray(p=0.01), CLAHE(p=0.01, clip_limit=(1, 4.0), tile_grid_size=(8, 8))\n"
          ]
        },
        {
          "output_type": "stream",
          "name": "stderr",
          "text": [
            "os.fork() was called. os.fork() is incompatible with multithreaded code, and JAX is multithreaded, so this will likely lead to a deadlock.\n",
            "\u001b[34m\u001b[1mval: \u001b[0mScanning /content/efg-3/valid/labels... 12 images, 0 backgrounds, 0 corrupt: 100%|██████████| 12/12 [00:00<00:00, 748.00it/s]"
          ]
        },
        {
          "output_type": "stream",
          "name": "stdout",
          "text": [
            "\u001b[34m\u001b[1mval: \u001b[0mNew cache created: /content/efg-3/valid/labels.cache\n"
          ]
        },
        {
          "output_type": "stream",
          "name": "stderr",
          "text": [
            "\n"
          ]
        },
        {
          "output_type": "stream",
          "name": "stdout",
          "text": [
            "Plotting labels to runs/detect/train2/labels.jpg... \n",
            "\u001b[34m\u001b[1moptimizer:\u001b[0m 'optimizer=auto' found, ignoring 'lr0=0.01' and 'momentum=0.937' and determining best 'optimizer', 'lr0' and 'momentum' automatically... \n",
            "\u001b[34m\u001b[1moptimizer:\u001b[0m AdamW(lr=0.002, momentum=0.9) with parameter groups 77 weight(decay=0.0), 84 weight(decay=0.0005), 83 bias(decay=0.0)\n",
            "\u001b[34m\u001b[1mTensorBoard: \u001b[0mmodel graph visualization added ✅\n",
            "Image sizes 640 train, 640 val\n",
            "Using 2 dataloader workers\n",
            "Logging results to \u001b[1mruns/detect/train2\u001b[0m\n",
            "Starting training for 5 epochs...\n",
            "\n",
            "      Epoch    GPU_mem   box_loss   cls_loss   dfl_loss  Instances       Size\n"
          ]
        },
        {
          "output_type": "stream",
          "name": "stderr",
          "text": [
            "        1/5      7.36G      1.807      4.221      2.011          9        640: 100%|██████████| 7/7 [00:05<00:00,  1.21it/s]\n",
            "                 Class     Images  Instances      Box(P          R      mAP50  mAP50-95): 100%|██████████| 1/1 [00:02<00:00,  2.13s/it]"
          ]
        },
        {
          "output_type": "stream",
          "name": "stdout",
          "text": [
            "                   all         12         12      0.184     0.0833     0.0293     0.0204\n"
          ]
        },
        {
          "output_type": "stream",
          "name": "stderr",
          "text": [
            "\n"
          ]
        },
        {
          "output_type": "stream",
          "name": "stdout",
          "text": [
            "\n",
            "      Epoch    GPU_mem   box_loss   cls_loss   dfl_loss  Instances       Size\n"
          ]
        },
        {
          "output_type": "stream",
          "name": "stderr",
          "text": [
            "        2/5      7.24G       1.28      1.917      1.476         10        640: 100%|██████████| 7/7 [00:03<00:00,  2.18it/s]\n",
            "                 Class     Images  Instances      Box(P          R      mAP50  mAP50-95): 100%|██████████| 1/1 [00:00<00:00,  4.65it/s]"
          ]
        },
        {
          "output_type": "stream",
          "name": "stdout",
          "text": [
            "                   all         12         12      0.982        0.5      0.564        0.4\n"
          ]
        },
        {
          "output_type": "stream",
          "name": "stderr",
          "text": [
            "\n"
          ]
        },
        {
          "output_type": "stream",
          "name": "stdout",
          "text": [
            "\n",
            "      Epoch    GPU_mem   box_loss   cls_loss   dfl_loss  Instances       Size\n"
          ]
        },
        {
          "output_type": "stream",
          "name": "stderr",
          "text": [
            "        3/5      7.24G       1.23      1.065      1.487         14        640: 100%|██████████| 7/7 [00:03<00:00,  2.20it/s]\n",
            "                 Class     Images  Instances      Box(P          R      mAP50  mAP50-95): 100%|██████████| 1/1 [00:00<00:00,  5.19it/s]\n"
          ]
        },
        {
          "output_type": "stream",
          "name": "stdout",
          "text": [
            "                   all         12         12      0.989      0.917      0.989      0.729\n",
            "\n",
            "      Epoch    GPU_mem   box_loss   cls_loss   dfl_loss  Instances       Size\n"
          ]
        },
        {
          "output_type": "stream",
          "name": "stderr",
          "text": [
            "        4/5      7.24G      1.181      0.915      1.336         15        640: 100%|██████████| 7/7 [00:03<00:00,  1.88it/s]\n",
            "                 Class     Images  Instances      Box(P          R      mAP50  mAP50-95): 100%|██████████| 1/1 [00:00<00:00,  2.54it/s]"
          ]
        },
        {
          "output_type": "stream",
          "name": "stdout",
          "text": [
            "                   all         12         12      0.986          1      0.995      0.768\n"
          ]
        },
        {
          "output_type": "stream",
          "name": "stderr",
          "text": [
            "\n"
          ]
        },
        {
          "output_type": "stream",
          "name": "stdout",
          "text": [
            "\n",
            "      Epoch    GPU_mem   box_loss   cls_loss   dfl_loss  Instances       Size\n"
          ]
        },
        {
          "output_type": "stream",
          "name": "stderr",
          "text": [
            "        5/5      7.33G     0.9071     0.7525      1.237         10        640: 100%|██████████| 7/7 [00:03<00:00,  2.19it/s]\n",
            "                 Class     Images  Instances      Box(P          R      mAP50  mAP50-95): 100%|██████████| 1/1 [00:00<00:00,  5.28it/s]\n"
          ]
        },
        {
          "output_type": "stream",
          "name": "stdout",
          "text": [
            "                   all         12         12      0.594          1      0.844      0.619\n",
            "\n",
            "5 epochs completed in 0.011 hours.\n",
            "Optimizer stripped from runs/detect/train2/weights/last.pt, 52.0MB\n",
            "Optimizer stripped from runs/detect/train2/weights/best.pt, 52.0MB\n",
            "\n",
            "Validating runs/detect/train2/weights/best.pt...\n",
            "Ultralytics YOLOv8.2.18 🚀 Python-3.10.12 torch-2.2.1+cu121 CUDA:0 (Tesla T4, 15102MiB)\n",
            "Model summary (fused): 218 layers, 25840339 parameters, 0 gradients, 78.7 GFLOPs\n"
          ]
        },
        {
          "output_type": "stream",
          "name": "stderr",
          "text": [
            "                 Class     Images  Instances      Box(P          R      mAP50  mAP50-95): 100%|██████████| 1/1 [00:00<00:00,  5.36it/s]\n"
          ]
        },
        {
          "output_type": "stream",
          "name": "stdout",
          "text": [
            "                   all         12         12      0.988          1      0.995      0.776\n",
            "Speed: 0.2ms preprocess, 9.2ms inference, 0.0ms loss, 1.4ms postprocess per image\n",
            "Results saved to \u001b[1mruns/detect/train2\u001b[0m\n"
          ]
        },
        {
          "output_type": "execute_result",
          "data": {
            "text/plain": [
              "ultralytics.utils.metrics.DetMetrics object with attributes:\n",
              "\n",
              "ap_class_index: array([0])\n",
              "box: ultralytics.utils.metrics.Metric object\n",
              "confusion_matrix: <ultralytics.utils.metrics.ConfusionMatrix object at 0x7c477909d9f0>\n",
              "curves: ['Precision-Recall(B)', 'F1-Confidence(B)', 'Precision-Confidence(B)', 'Recall-Confidence(B)']\n",
              "curves_results: [[array([          0,    0.001001,    0.002002,    0.003003,    0.004004,    0.005005,    0.006006,    0.007007,    0.008008,    0.009009,     0.01001,    0.011011,    0.012012,    0.013013,    0.014014,    0.015015,    0.016016,    0.017017,    0.018018,    0.019019,     0.02002,    0.021021,    0.022022,    0.023023,\n",
              "          0.024024,    0.025025,    0.026026,    0.027027,    0.028028,    0.029029,     0.03003,    0.031031,    0.032032,    0.033033,    0.034034,    0.035035,    0.036036,    0.037037,    0.038038,    0.039039,     0.04004,    0.041041,    0.042042,    0.043043,    0.044044,    0.045045,    0.046046,    0.047047,\n",
              "          0.048048,    0.049049,     0.05005,    0.051051,    0.052052,    0.053053,    0.054054,    0.055055,    0.056056,    0.057057,    0.058058,    0.059059,     0.06006,    0.061061,    0.062062,    0.063063,    0.064064,    0.065065,    0.066066,    0.067067,    0.068068,    0.069069,     0.07007,    0.071071,\n",
              "          0.072072,    0.073073,    0.074074,    0.075075,    0.076076,    0.077077,    0.078078,    0.079079,     0.08008,    0.081081,    0.082082,    0.083083,    0.084084,    0.085085,    0.086086,    0.087087,    0.088088,    0.089089,     0.09009,    0.091091,    0.092092,    0.093093,    0.094094,    0.095095,\n",
              "          0.096096,    0.097097,    0.098098,    0.099099,      0.1001,      0.1011,      0.1021,      0.1031,      0.1041,     0.10511,     0.10611,     0.10711,     0.10811,     0.10911,     0.11011,     0.11111,     0.11211,     0.11311,     0.11411,     0.11512,     0.11612,     0.11712,     0.11812,     0.11912,\n",
              "           0.12012,     0.12112,     0.12212,     0.12312,     0.12412,     0.12513,     0.12613,     0.12713,     0.12813,     0.12913,     0.13013,     0.13113,     0.13213,     0.13313,     0.13413,     0.13514,     0.13614,     0.13714,     0.13814,     0.13914,     0.14014,     0.14114,     0.14214,     0.14314,\n",
              "           0.14414,     0.14515,     0.14615,     0.14715,     0.14815,     0.14915,     0.15015,     0.15115,     0.15215,     0.15315,     0.15415,     0.15516,     0.15616,     0.15716,     0.15816,     0.15916,     0.16016,     0.16116,     0.16216,     0.16316,     0.16416,     0.16517,     0.16617,     0.16717,\n",
              "           0.16817,     0.16917,     0.17017,     0.17117,     0.17217,     0.17317,     0.17417,     0.17518,     0.17618,     0.17718,     0.17818,     0.17918,     0.18018,     0.18118,     0.18218,     0.18318,     0.18418,     0.18519,     0.18619,     0.18719,     0.18819,     0.18919,     0.19019,     0.19119,\n",
              "           0.19219,     0.19319,     0.19419,      0.1952,      0.1962,      0.1972,      0.1982,      0.1992,      0.2002,      0.2012,      0.2022,      0.2032,      0.2042,     0.20521,     0.20621,     0.20721,     0.20821,     0.20921,     0.21021,     0.21121,     0.21221,     0.21321,     0.21421,     0.21522,\n",
              "           0.21622,     0.21722,     0.21822,     0.21922,     0.22022,     0.22122,     0.22222,     0.22322,     0.22422,     0.22523,     0.22623,     0.22723,     0.22823,     0.22923,     0.23023,     0.23123,     0.23223,     0.23323,     0.23423,     0.23524,     0.23624,     0.23724,     0.23824,     0.23924,\n",
              "           0.24024,     0.24124,     0.24224,     0.24324,     0.24424,     0.24525,     0.24625,     0.24725,     0.24825,     0.24925,     0.25025,     0.25125,     0.25225,     0.25325,     0.25425,     0.25526,     0.25626,     0.25726,     0.25826,     0.25926,     0.26026,     0.26126,     0.26226,     0.26326,\n",
              "           0.26426,     0.26527,     0.26627,     0.26727,     0.26827,     0.26927,     0.27027,     0.27127,     0.27227,     0.27327,     0.27427,     0.27528,     0.27628,     0.27728,     0.27828,     0.27928,     0.28028,     0.28128,     0.28228,     0.28328,     0.28428,     0.28529,     0.28629,     0.28729,\n",
              "           0.28829,     0.28929,     0.29029,     0.29129,     0.29229,     0.29329,     0.29429,      0.2953,      0.2963,      0.2973,      0.2983,      0.2993,      0.3003,      0.3013,      0.3023,      0.3033,      0.3043,     0.30531,     0.30631,     0.30731,     0.30831,     0.30931,     0.31031,     0.31131,\n",
              "           0.31231,     0.31331,     0.31431,     0.31532,     0.31632,     0.31732,     0.31832,     0.31932,     0.32032,     0.32132,     0.32232,     0.32332,     0.32432,     0.32533,     0.32633,     0.32733,     0.32833,     0.32933,     0.33033,     0.33133,     0.33233,     0.33333,     0.33433,     0.33534,\n",
              "           0.33634,     0.33734,     0.33834,     0.33934,     0.34034,     0.34134,     0.34234,     0.34334,     0.34434,     0.34535,     0.34635,     0.34735,     0.34835,     0.34935,     0.35035,     0.35135,     0.35235,     0.35335,     0.35435,     0.35536,     0.35636,     0.35736,     0.35836,     0.35936,\n",
              "           0.36036,     0.36136,     0.36236,     0.36336,     0.36436,     0.36537,     0.36637,     0.36737,     0.36837,     0.36937,     0.37037,     0.37137,     0.37237,     0.37337,     0.37437,     0.37538,     0.37638,     0.37738,     0.37838,     0.37938,     0.38038,     0.38138,     0.38238,     0.38338,\n",
              "           0.38438,     0.38539,     0.38639,     0.38739,     0.38839,     0.38939,     0.39039,     0.39139,     0.39239,     0.39339,     0.39439,      0.3954,      0.3964,      0.3974,      0.3984,      0.3994,      0.4004,      0.4014,      0.4024,      0.4034,      0.4044,     0.40541,     0.40641,     0.40741,\n",
              "           0.40841,     0.40941,     0.41041,     0.41141,     0.41241,     0.41341,     0.41441,     0.41542,     0.41642,     0.41742,     0.41842,     0.41942,     0.42042,     0.42142,     0.42242,     0.42342,     0.42442,     0.42543,     0.42643,     0.42743,     0.42843,     0.42943,     0.43043,     0.43143,\n",
              "           0.43243,     0.43343,     0.43443,     0.43544,     0.43644,     0.43744,     0.43844,     0.43944,     0.44044,     0.44144,     0.44244,     0.44344,     0.44444,     0.44545,     0.44645,     0.44745,     0.44845,     0.44945,     0.45045,     0.45145,     0.45245,     0.45345,     0.45445,     0.45546,\n",
              "           0.45646,     0.45746,     0.45846,     0.45946,     0.46046,     0.46146,     0.46246,     0.46346,     0.46446,     0.46547,     0.46647,     0.46747,     0.46847,     0.46947,     0.47047,     0.47147,     0.47247,     0.47347,     0.47447,     0.47548,     0.47648,     0.47748,     0.47848,     0.47948,\n",
              "           0.48048,     0.48148,     0.48248,     0.48348,     0.48448,     0.48549,     0.48649,     0.48749,     0.48849,     0.48949,     0.49049,     0.49149,     0.49249,     0.49349,     0.49449,      0.4955,      0.4965,      0.4975,      0.4985,      0.4995,      0.5005,      0.5015,      0.5025,      0.5035,\n",
              "            0.5045,     0.50551,     0.50651,     0.50751,     0.50851,     0.50951,     0.51051,     0.51151,     0.51251,     0.51351,     0.51451,     0.51552,     0.51652,     0.51752,     0.51852,     0.51952,     0.52052,     0.52152,     0.52252,     0.52352,     0.52452,     0.52553,     0.52653,     0.52753,\n",
              "           0.52853,     0.52953,     0.53053,     0.53153,     0.53253,     0.53353,     0.53453,     0.53554,     0.53654,     0.53754,     0.53854,     0.53954,     0.54054,     0.54154,     0.54254,     0.54354,     0.54454,     0.54555,     0.54655,     0.54755,     0.54855,     0.54955,     0.55055,     0.55155,\n",
              "           0.55255,     0.55355,     0.55455,     0.55556,     0.55656,     0.55756,     0.55856,     0.55956,     0.56056,     0.56156,     0.56256,     0.56356,     0.56456,     0.56557,     0.56657,     0.56757,     0.56857,     0.56957,     0.57057,     0.57157,     0.57257,     0.57357,     0.57457,     0.57558,\n",
              "           0.57658,     0.57758,     0.57858,     0.57958,     0.58058,     0.58158,     0.58258,     0.58358,     0.58458,     0.58559,     0.58659,     0.58759,     0.58859,     0.58959,     0.59059,     0.59159,     0.59259,     0.59359,     0.59459,      0.5956,      0.5966,      0.5976,      0.5986,      0.5996,\n",
              "            0.6006,      0.6016,      0.6026,      0.6036,      0.6046,     0.60561,     0.60661,     0.60761,     0.60861,     0.60961,     0.61061,     0.61161,     0.61261,     0.61361,     0.61461,     0.61562,     0.61662,     0.61762,     0.61862,     0.61962,     0.62062,     0.62162,     0.62262,     0.62362,\n",
              "           0.62462,     0.62563,     0.62663,     0.62763,     0.62863,     0.62963,     0.63063,     0.63163,     0.63263,     0.63363,     0.63463,     0.63564,     0.63664,     0.63764,     0.63864,     0.63964,     0.64064,     0.64164,     0.64264,     0.64364,     0.64464,     0.64565,     0.64665,     0.64765,\n",
              "           0.64865,     0.64965,     0.65065,     0.65165,     0.65265,     0.65365,     0.65465,     0.65566,     0.65666,     0.65766,     0.65866,     0.65966,     0.66066,     0.66166,     0.66266,     0.66366,     0.66466,     0.66567,     0.66667,     0.66767,     0.66867,     0.66967,     0.67067,     0.67167,\n",
              "           0.67267,     0.67367,     0.67467,     0.67568,     0.67668,     0.67768,     0.67868,     0.67968,     0.68068,     0.68168,     0.68268,     0.68368,     0.68468,     0.68569,     0.68669,     0.68769,     0.68869,     0.68969,     0.69069,     0.69169,     0.69269,     0.69369,     0.69469,      0.6957,\n",
              "            0.6967,      0.6977,      0.6987,      0.6997,      0.7007,      0.7017,      0.7027,      0.7037,      0.7047,     0.70571,     0.70671,     0.70771,     0.70871,     0.70971,     0.71071,     0.71171,     0.71271,     0.71371,     0.71471,     0.71572,     0.71672,     0.71772,     0.71872,     0.71972,\n",
              "           0.72072,     0.72172,     0.72272,     0.72372,     0.72472,     0.72573,     0.72673,     0.72773,     0.72873,     0.72973,     0.73073,     0.73173,     0.73273,     0.73373,     0.73473,     0.73574,     0.73674,     0.73774,     0.73874,     0.73974,     0.74074,     0.74174,     0.74274,     0.74374,\n",
              "           0.74474,     0.74575,     0.74675,     0.74775,     0.74875,     0.74975,     0.75075,     0.75175,     0.75275,     0.75375,     0.75475,     0.75576,     0.75676,     0.75776,     0.75876,     0.75976,     0.76076,     0.76176,     0.76276,     0.76376,     0.76476,     0.76577,     0.76677,     0.76777,\n",
              "           0.76877,     0.76977,     0.77077,     0.77177,     0.77277,     0.77377,     0.77477,     0.77578,     0.77678,     0.77778,     0.77878,     0.77978,     0.78078,     0.78178,     0.78278,     0.78378,     0.78478,     0.78579,     0.78679,     0.78779,     0.78879,     0.78979,     0.79079,     0.79179,\n",
              "           0.79279,     0.79379,     0.79479,      0.7958,      0.7968,      0.7978,      0.7988,      0.7998,      0.8008,      0.8018,      0.8028,      0.8038,      0.8048,     0.80581,     0.80681,     0.80781,     0.80881,     0.80981,     0.81081,     0.81181,     0.81281,     0.81381,     0.81481,     0.81582,\n",
              "           0.81682,     0.81782,     0.81882,     0.81982,     0.82082,     0.82182,     0.82282,     0.82382,     0.82482,     0.82583,     0.82683,     0.82783,     0.82883,     0.82983,     0.83083,     0.83183,     0.83283,     0.83383,     0.83483,     0.83584,     0.83684,     0.83784,     0.83884,     0.83984,\n",
              "           0.84084,     0.84184,     0.84284,     0.84384,     0.84484,     0.84585,     0.84685,     0.84785,     0.84885,     0.84985,     0.85085,     0.85185,     0.85285,     0.85385,     0.85485,     0.85586,     0.85686,     0.85786,     0.85886,     0.85986,     0.86086,     0.86186,     0.86286,     0.86386,\n",
              "           0.86486,     0.86587,     0.86687,     0.86787,     0.86887,     0.86987,     0.87087,     0.87187,     0.87287,     0.87387,     0.87487,     0.87588,     0.87688,     0.87788,     0.87888,     0.87988,     0.88088,     0.88188,     0.88288,     0.88388,     0.88488,     0.88589,     0.88689,     0.88789,\n",
              "           0.88889,     0.88989,     0.89089,     0.89189,     0.89289,     0.89389,     0.89489,      0.8959,      0.8969,      0.8979,      0.8989,      0.8999,      0.9009,      0.9019,      0.9029,      0.9039,      0.9049,     0.90591,     0.90691,     0.90791,     0.90891,     0.90991,     0.91091,     0.91191,\n",
              "           0.91291,     0.91391,     0.91491,     0.91592,     0.91692,     0.91792,     0.91892,     0.91992,     0.92092,     0.92192,     0.92292,     0.92392,     0.92492,     0.92593,     0.92693,     0.92793,     0.92893,     0.92993,     0.93093,     0.93193,     0.93293,     0.93393,     0.93493,     0.93594,\n",
              "           0.93694,     0.93794,     0.93894,     0.93994,     0.94094,     0.94194,     0.94294,     0.94394,     0.94494,     0.94595,     0.94695,     0.94795,     0.94895,     0.94995,     0.95095,     0.95195,     0.95295,     0.95395,     0.95495,     0.95596,     0.95696,     0.95796,     0.95896,     0.95996,\n",
              "           0.96096,     0.96196,     0.96296,     0.96396,     0.96496,     0.96597,     0.96697,     0.96797,     0.96897,     0.96997,     0.97097,     0.97197,     0.97297,     0.97397,     0.97497,     0.97598,     0.97698,     0.97798,     0.97898,     0.97998,     0.98098,     0.98198,     0.98298,     0.98398,\n",
              "           0.98498,     0.98599,     0.98699,     0.98799,     0.98899,     0.98999,     0.99099,     0.99199,     0.99299,     0.99399,     0.99499,       0.996,       0.997,       0.998,       0.999,           1]), array([[          1,           1,           1,           1,           1,           1,           1,           1,           1,           1,           1,           1,           1,           1,           1,           1,           1,           1,           1,           1,           1,           1,           1,\n",
              "                  1,           1,           1,           1,           1,           1,           1,           1,           1,           1,           1,           1,           1,           1,           1,           1,           1,           1,           1,           1,           1,           1,           1,\n",
              "                  1,           1,           1,           1,           1,           1,           1,           1,           1,           1,           1,           1,           1,           1,           1,           1,           1,           1,           1,           1,           1,           1,           1,\n",
              "                  1,           1,           1,           1,           1,           1,           1,           1,           1,           1,           1,           1,           1,           1,           1,           1,           1,           1,           1,           1,           1,           1,           1,\n",
              "                  1,           1,           1,           1,           1,           1,           1,           1,           1,           1,           1,           1,           1,           1,           1,           1,           1,           1,           1,           1,           1,           1,           1,\n",
              "                  1,           1,           1,           1,           1,           1,           1,           1,           1,           1,           1,           1,           1,           1,           1,           1,           1,           1,           1,           1,           1,           1,           1,\n",
              "                  1,           1,           1,           1,           1,           1,           1,           1,           1,           1,           1,           1,           1,           1,           1,           1,           1,           1,           1,           1,           1,           1,           1,\n",
              "                  1,           1,           1,           1,           1,           1,           1,           1,           1,           1,           1,           1,           1,           1,           1,           1,           1,           1,           1,           1,           1,           1,           1,\n",
              "                  1,           1,           1,           1,           1,           1,           1,           1,           1,           1,           1,           1,           1,           1,           1,           1,           1,           1,           1,           1,           1,           1,           1,\n",
              "                  1,           1,           1,           1,           1,           1,           1,           1,           1,           1,           1,           1,           1,           1,           1,           1,           1,           1,           1,           1,           1,           1,           1,\n",
              "                  1,           1,           1,           1,           1,           1,           1,           1,           1,           1,           1,           1,           1,           1,           1,           1,           1,           1,           1,           1,           1,           1,           1,\n",
              "                  1,           1,           1,           1,           1,           1,           1,           1,           1,           1,           1,           1,           1,           1,           1,           1,           1,           1,           1,           1,           1,           1,           1,\n",
              "                  1,           1,           1,           1,           1,           1,           1,           1,           1,           1,           1,           1,           1,           1,           1,           1,           1,           1,           1,           1,           1,           1,           1,\n",
              "                  1,           1,           1,           1,           1,           1,           1,           1,           1,           1,           1,           1,           1,           1,           1,           1,           1,           1,           1,           1,           1,           1,           1,\n",
              "                  1,           1,           1,           1,           1,           1,           1,           1,           1,           1,           1,           1,           1,           1,           1,           1,           1,           1,           1,           1,           1,           1,           1,\n",
              "                  1,           1,           1,           1,           1,           1,           1,           1,           1,           1,           1,           1,           1,           1,           1,           1,           1,           1,           1,           1,           1,           1,           1,\n",
              "                  1,           1,           1,           1,           1,           1,           1,           1,           1,           1,           1,           1,           1,           1,           1,           1,           1,           1,           1,           1,           1,           1,           1,\n",
              "                  1,           1,           1,           1,           1,           1,           1,           1,           1,           1,           1,           1,           1,           1,           1,           1,           1,           1,           1,           1,           1,           1,           1,\n",
              "                  1,           1,           1,           1,           1,           1,           1,           1,           1,           1,           1,           1,           1,           1,           1,           1,           1,           1,           1,           1,           1,           1,           1,\n",
              "                  1,           1,           1,           1,           1,           1,           1,           1,           1,           1,           1,           1,           1,           1,           1,           1,           1,           1,           1,           1,           1,           1,           1,\n",
              "                  1,           1,           1,           1,           1,           1,           1,           1,           1,           1,           1,           1,           1,           1,           1,           1,           1,           1,           1,           1,           1,           1,           1,\n",
              "                  1,           1,           1,           1,           1,           1,           1,           1,           1,           1,           1,           1,           1,           1,           1,           1,           1,           1,           1,           1,           1,           1,           1,\n",
              "                  1,           1,           1,           1,           1,           1,           1,           1,           1,           1,           1,           1,           1,           1,           1,           1,           1,           1,           1,           1,           1,           1,           1,\n",
              "                  1,           1,           1,           1,           1,           1,           1,           1,           1,           1,           1,           1,           1,           1,           1,           1,           1,           1,           1,           1,           1,           1,           1,\n",
              "                  1,           1,           1,           1,           1,           1,           1,           1,           1,           1,           1,           1,           1,           1,           1,           1,           1,           1,           1,           1,           1,           1,           1,\n",
              "                  1,           1,           1,           1,           1,           1,           1,           1,           1,           1,           1,           1,           1,           1,           1,           1,           1,           1,           1,           1,           1,           1,           1,\n",
              "                  1,           1,           1,           1,           1,           1,           1,           1,           1,           1,           1,           1,           1,           1,           1,           1,           1,           1,           1,           1,           1,           1,           1,\n",
              "                  1,           1,           1,           1,           1,           1,           1,           1,           1,           1,           1,           1,           1,           1,           1,           1,           1,           1,           1,           1,           1,           1,           1,\n",
              "                  1,           1,           1,           1,           1,           1,           1,           1,           1,           1,           1,           1,           1,           1,           1,           1,           1,           1,           1,           1,           1,           1,           1,\n",
              "                  1,           1,           1,           1,           1,           1,           1,           1,           1,           1,           1,           1,           1,           1,           1,           1,           1,           1,           1,           1,           1,           1,           1,\n",
              "                  1,           1,           1,           1,           1,           1,           1,           1,           1,           1,           1,           1,           1,           1,           1,           1,           1,           1,           1,           1,           1,           1,           1,\n",
              "                  1,           1,           1,           1,           1,           1,           1,           1,           1,           1,           1,           1,           1,           1,           1,           1,           1,           1,           1,           1,           1,           1,           1,\n",
              "                  1,           1,           1,           1,           1,           1,           1,           1,           1,           1,           1,           1,           1,           1,           1,           1,           1,           1,           1,           1,           1,           1,           1,\n",
              "                  1,           1,           1,           1,           1,           1,           1,           1,           1,           1,           1,           1,           1,           1,           1,           1,           1,           1,           1,           1,           1,           1,           1,\n",
              "                  1,           1,           1,           1,           1,           1,           1,           1,           1,           1,           1,           1,           1,           1,           1,           1,           1,           1,           1,           1,           1,           1,           1,\n",
              "                  1,           1,           1,           1,           1,           1,           1,           1,           1,           1,           1,           1,           1,           1,           1,           1,           1,           1,           1,           1,           1,           1,           1,\n",
              "                  1,           1,           1,           1,           1,           1,           1,           1,           1,           1,           1,           1,           1,           1,           1,           1,           1,           1,           1,           1,           1,           1,           1,\n",
              "                  1,           1,           1,           1,           1,           1,           1,           1,           1,           1,           1,           1,           1,           1,           1,           1,           1,           1,           1,           1,           1,           1,           1,\n",
              "                  1,           1,           1,           1,           1,           1,           1,           1,           1,           1,           1,           1,           1,           1,           1,           1,           1,           1,           1,           1,           1,           1,           1,\n",
              "                  1,           1,           1,           1,           1,           1,           1,           1,           1,           1,           1,           1,           1,           1,           1,           1,           1,           1,           1,           1,           1,           1,           1,\n",
              "                  1,           1,           1,           1,           1,           1,           1,           1,           1,           1,           1,           1,           1,           1,           1,           1,           1,           1,           1,           1,           1,           1,           1,\n",
              "                  1,           1,           1,           1,           1,           1,           1,           1,           1,           1,           1,           1,           1,           1,           1,           1,           1,           1,           1,           1,           1,           1,           1,\n",
              "                  1,           1,           1,           1,           1,           1,           1,           1,           1,           1,           1,           1,           1,           1,           1,           1,           1,           1,           1,           1,           1,           1,           1,\n",
              "                  1,           1,           1,           1,           1,           1,           1,           1,           1,           1,           0]]), 'Recall', 'Precision'], [array([          0,    0.001001,    0.002002,    0.003003,    0.004004,    0.005005,    0.006006,    0.007007,    0.008008,    0.009009,     0.01001,    0.011011,    0.012012,    0.013013,    0.014014,    0.015015,    0.016016,    0.017017,    0.018018,    0.019019,     0.02002,    0.021021,    0.022022,    0.023023,\n",
              "          0.024024,    0.025025,    0.026026,    0.027027,    0.028028,    0.029029,     0.03003,    0.031031,    0.032032,    0.033033,    0.034034,    0.035035,    0.036036,    0.037037,    0.038038,    0.039039,     0.04004,    0.041041,    0.042042,    0.043043,    0.044044,    0.045045,    0.046046,    0.047047,\n",
              "          0.048048,    0.049049,     0.05005,    0.051051,    0.052052,    0.053053,    0.054054,    0.055055,    0.056056,    0.057057,    0.058058,    0.059059,     0.06006,    0.061061,    0.062062,    0.063063,    0.064064,    0.065065,    0.066066,    0.067067,    0.068068,    0.069069,     0.07007,    0.071071,\n",
              "          0.072072,    0.073073,    0.074074,    0.075075,    0.076076,    0.077077,    0.078078,    0.079079,     0.08008,    0.081081,    0.082082,    0.083083,    0.084084,    0.085085,    0.086086,    0.087087,    0.088088,    0.089089,     0.09009,    0.091091,    0.092092,    0.093093,    0.094094,    0.095095,\n",
              "          0.096096,    0.097097,    0.098098,    0.099099,      0.1001,      0.1011,      0.1021,      0.1031,      0.1041,     0.10511,     0.10611,     0.10711,     0.10811,     0.10911,     0.11011,     0.11111,     0.11211,     0.11311,     0.11411,     0.11512,     0.11612,     0.11712,     0.11812,     0.11912,\n",
              "           0.12012,     0.12112,     0.12212,     0.12312,     0.12412,     0.12513,     0.12613,     0.12713,     0.12813,     0.12913,     0.13013,     0.13113,     0.13213,     0.13313,     0.13413,     0.13514,     0.13614,     0.13714,     0.13814,     0.13914,     0.14014,     0.14114,     0.14214,     0.14314,\n",
              "           0.14414,     0.14515,     0.14615,     0.14715,     0.14815,     0.14915,     0.15015,     0.15115,     0.15215,     0.15315,     0.15415,     0.15516,     0.15616,     0.15716,     0.15816,     0.15916,     0.16016,     0.16116,     0.16216,     0.16316,     0.16416,     0.16517,     0.16617,     0.16717,\n",
              "           0.16817,     0.16917,     0.17017,     0.17117,     0.17217,     0.17317,     0.17417,     0.17518,     0.17618,     0.17718,     0.17818,     0.17918,     0.18018,     0.18118,     0.18218,     0.18318,     0.18418,     0.18519,     0.18619,     0.18719,     0.18819,     0.18919,     0.19019,     0.19119,\n",
              "           0.19219,     0.19319,     0.19419,      0.1952,      0.1962,      0.1972,      0.1982,      0.1992,      0.2002,      0.2012,      0.2022,      0.2032,      0.2042,     0.20521,     0.20621,     0.20721,     0.20821,     0.20921,     0.21021,     0.21121,     0.21221,     0.21321,     0.21421,     0.21522,\n",
              "           0.21622,     0.21722,     0.21822,     0.21922,     0.22022,     0.22122,     0.22222,     0.22322,     0.22422,     0.22523,     0.22623,     0.22723,     0.22823,     0.22923,     0.23023,     0.23123,     0.23223,     0.23323,     0.23423,     0.23524,     0.23624,     0.23724,     0.23824,     0.23924,\n",
              "           0.24024,     0.24124,     0.24224,     0.24324,     0.24424,     0.24525,     0.24625,     0.24725,     0.24825,     0.24925,     0.25025,     0.25125,     0.25225,     0.25325,     0.25425,     0.25526,     0.25626,     0.25726,     0.25826,     0.25926,     0.26026,     0.26126,     0.26226,     0.26326,\n",
              "           0.26426,     0.26527,     0.26627,     0.26727,     0.26827,     0.26927,     0.27027,     0.27127,     0.27227,     0.27327,     0.27427,     0.27528,     0.27628,     0.27728,     0.27828,     0.27928,     0.28028,     0.28128,     0.28228,     0.28328,     0.28428,     0.28529,     0.28629,     0.28729,\n",
              "           0.28829,     0.28929,     0.29029,     0.29129,     0.29229,     0.29329,     0.29429,      0.2953,      0.2963,      0.2973,      0.2983,      0.2993,      0.3003,      0.3013,      0.3023,      0.3033,      0.3043,     0.30531,     0.30631,     0.30731,     0.30831,     0.30931,     0.31031,     0.31131,\n",
              "           0.31231,     0.31331,     0.31431,     0.31532,     0.31632,     0.31732,     0.31832,     0.31932,     0.32032,     0.32132,     0.32232,     0.32332,     0.32432,     0.32533,     0.32633,     0.32733,     0.32833,     0.32933,     0.33033,     0.33133,     0.33233,     0.33333,     0.33433,     0.33534,\n",
              "           0.33634,     0.33734,     0.33834,     0.33934,     0.34034,     0.34134,     0.34234,     0.34334,     0.34434,     0.34535,     0.34635,     0.34735,     0.34835,     0.34935,     0.35035,     0.35135,     0.35235,     0.35335,     0.35435,     0.35536,     0.35636,     0.35736,     0.35836,     0.35936,\n",
              "           0.36036,     0.36136,     0.36236,     0.36336,     0.36436,     0.36537,     0.36637,     0.36737,     0.36837,     0.36937,     0.37037,     0.37137,     0.37237,     0.37337,     0.37437,     0.37538,     0.37638,     0.37738,     0.37838,     0.37938,     0.38038,     0.38138,     0.38238,     0.38338,\n",
              "           0.38438,     0.38539,     0.38639,     0.38739,     0.38839,     0.38939,     0.39039,     0.39139,     0.39239,     0.39339,     0.39439,      0.3954,      0.3964,      0.3974,      0.3984,      0.3994,      0.4004,      0.4014,      0.4024,      0.4034,      0.4044,     0.40541,     0.40641,     0.40741,\n",
              "           0.40841,     0.40941,     0.41041,     0.41141,     0.41241,     0.41341,     0.41441,     0.41542,     0.41642,     0.41742,     0.41842,     0.41942,     0.42042,     0.42142,     0.42242,     0.42342,     0.42442,     0.42543,     0.42643,     0.42743,     0.42843,     0.42943,     0.43043,     0.43143,\n",
              "           0.43243,     0.43343,     0.43443,     0.43544,     0.43644,     0.43744,     0.43844,     0.43944,     0.44044,     0.44144,     0.44244,     0.44344,     0.44444,     0.44545,     0.44645,     0.44745,     0.44845,     0.44945,     0.45045,     0.45145,     0.45245,     0.45345,     0.45445,     0.45546,\n",
              "           0.45646,     0.45746,     0.45846,     0.45946,     0.46046,     0.46146,     0.46246,     0.46346,     0.46446,     0.46547,     0.46647,     0.46747,     0.46847,     0.46947,     0.47047,     0.47147,     0.47247,     0.47347,     0.47447,     0.47548,     0.47648,     0.47748,     0.47848,     0.47948,\n",
              "           0.48048,     0.48148,     0.48248,     0.48348,     0.48448,     0.48549,     0.48649,     0.48749,     0.48849,     0.48949,     0.49049,     0.49149,     0.49249,     0.49349,     0.49449,      0.4955,      0.4965,      0.4975,      0.4985,      0.4995,      0.5005,      0.5015,      0.5025,      0.5035,\n",
              "            0.5045,     0.50551,     0.50651,     0.50751,     0.50851,     0.50951,     0.51051,     0.51151,     0.51251,     0.51351,     0.51451,     0.51552,     0.51652,     0.51752,     0.51852,     0.51952,     0.52052,     0.52152,     0.52252,     0.52352,     0.52452,     0.52553,     0.52653,     0.52753,\n",
              "           0.52853,     0.52953,     0.53053,     0.53153,     0.53253,     0.53353,     0.53453,     0.53554,     0.53654,     0.53754,     0.53854,     0.53954,     0.54054,     0.54154,     0.54254,     0.54354,     0.54454,     0.54555,     0.54655,     0.54755,     0.54855,     0.54955,     0.55055,     0.55155,\n",
              "           0.55255,     0.55355,     0.55455,     0.55556,     0.55656,     0.55756,     0.55856,     0.55956,     0.56056,     0.56156,     0.56256,     0.56356,     0.56456,     0.56557,     0.56657,     0.56757,     0.56857,     0.56957,     0.57057,     0.57157,     0.57257,     0.57357,     0.57457,     0.57558,\n",
              "           0.57658,     0.57758,     0.57858,     0.57958,     0.58058,     0.58158,     0.58258,     0.58358,     0.58458,     0.58559,     0.58659,     0.58759,     0.58859,     0.58959,     0.59059,     0.59159,     0.59259,     0.59359,     0.59459,      0.5956,      0.5966,      0.5976,      0.5986,      0.5996,\n",
              "            0.6006,      0.6016,      0.6026,      0.6036,      0.6046,     0.60561,     0.60661,     0.60761,     0.60861,     0.60961,     0.61061,     0.61161,     0.61261,     0.61361,     0.61461,     0.61562,     0.61662,     0.61762,     0.61862,     0.61962,     0.62062,     0.62162,     0.62262,     0.62362,\n",
              "           0.62462,     0.62563,     0.62663,     0.62763,     0.62863,     0.62963,     0.63063,     0.63163,     0.63263,     0.63363,     0.63463,     0.63564,     0.63664,     0.63764,     0.63864,     0.63964,     0.64064,     0.64164,     0.64264,     0.64364,     0.64464,     0.64565,     0.64665,     0.64765,\n",
              "           0.64865,     0.64965,     0.65065,     0.65165,     0.65265,     0.65365,     0.65465,     0.65566,     0.65666,     0.65766,     0.65866,     0.65966,     0.66066,     0.66166,     0.66266,     0.66366,     0.66466,     0.66567,     0.66667,     0.66767,     0.66867,     0.66967,     0.67067,     0.67167,\n",
              "           0.67267,     0.67367,     0.67467,     0.67568,     0.67668,     0.67768,     0.67868,     0.67968,     0.68068,     0.68168,     0.68268,     0.68368,     0.68468,     0.68569,     0.68669,     0.68769,     0.68869,     0.68969,     0.69069,     0.69169,     0.69269,     0.69369,     0.69469,      0.6957,\n",
              "            0.6967,      0.6977,      0.6987,      0.6997,      0.7007,      0.7017,      0.7027,      0.7037,      0.7047,     0.70571,     0.70671,     0.70771,     0.70871,     0.70971,     0.71071,     0.71171,     0.71271,     0.71371,     0.71471,     0.71572,     0.71672,     0.71772,     0.71872,     0.71972,\n",
              "           0.72072,     0.72172,     0.72272,     0.72372,     0.72472,     0.72573,     0.72673,     0.72773,     0.72873,     0.72973,     0.73073,     0.73173,     0.73273,     0.73373,     0.73473,     0.73574,     0.73674,     0.73774,     0.73874,     0.73974,     0.74074,     0.74174,     0.74274,     0.74374,\n",
              "           0.74474,     0.74575,     0.74675,     0.74775,     0.74875,     0.74975,     0.75075,     0.75175,     0.75275,     0.75375,     0.75475,     0.75576,     0.75676,     0.75776,     0.75876,     0.75976,     0.76076,     0.76176,     0.76276,     0.76376,     0.76476,     0.76577,     0.76677,     0.76777,\n",
              "           0.76877,     0.76977,     0.77077,     0.77177,     0.77277,     0.77377,     0.77477,     0.77578,     0.77678,     0.77778,     0.77878,     0.77978,     0.78078,     0.78178,     0.78278,     0.78378,     0.78478,     0.78579,     0.78679,     0.78779,     0.78879,     0.78979,     0.79079,     0.79179,\n",
              "           0.79279,     0.79379,     0.79479,      0.7958,      0.7968,      0.7978,      0.7988,      0.7998,      0.8008,      0.8018,      0.8028,      0.8038,      0.8048,     0.80581,     0.80681,     0.80781,     0.80881,     0.80981,     0.81081,     0.81181,     0.81281,     0.81381,     0.81481,     0.81582,\n",
              "           0.81682,     0.81782,     0.81882,     0.81982,     0.82082,     0.82182,     0.82282,     0.82382,     0.82482,     0.82583,     0.82683,     0.82783,     0.82883,     0.82983,     0.83083,     0.83183,     0.83283,     0.83383,     0.83483,     0.83584,     0.83684,     0.83784,     0.83884,     0.83984,\n",
              "           0.84084,     0.84184,     0.84284,     0.84384,     0.84484,     0.84585,     0.84685,     0.84785,     0.84885,     0.84985,     0.85085,     0.85185,     0.85285,     0.85385,     0.85485,     0.85586,     0.85686,     0.85786,     0.85886,     0.85986,     0.86086,     0.86186,     0.86286,     0.86386,\n",
              "           0.86486,     0.86587,     0.86687,     0.86787,     0.86887,     0.86987,     0.87087,     0.87187,     0.87287,     0.87387,     0.87487,     0.87588,     0.87688,     0.87788,     0.87888,     0.87988,     0.88088,     0.88188,     0.88288,     0.88388,     0.88488,     0.88589,     0.88689,     0.88789,\n",
              "           0.88889,     0.88989,     0.89089,     0.89189,     0.89289,     0.89389,     0.89489,      0.8959,      0.8969,      0.8979,      0.8989,      0.8999,      0.9009,      0.9019,      0.9029,      0.9039,      0.9049,     0.90591,     0.90691,     0.90791,     0.90891,     0.90991,     0.91091,     0.91191,\n",
              "           0.91291,     0.91391,     0.91491,     0.91592,     0.91692,     0.91792,     0.91892,     0.91992,     0.92092,     0.92192,     0.92292,     0.92392,     0.92492,     0.92593,     0.92693,     0.92793,     0.92893,     0.92993,     0.93093,     0.93193,     0.93293,     0.93393,     0.93493,     0.93594,\n",
              "           0.93694,     0.93794,     0.93894,     0.93994,     0.94094,     0.94194,     0.94294,     0.94394,     0.94494,     0.94595,     0.94695,     0.94795,     0.94895,     0.94995,     0.95095,     0.95195,     0.95295,     0.95395,     0.95495,     0.95596,     0.95696,     0.95796,     0.95896,     0.95996,\n",
              "           0.96096,     0.96196,     0.96296,     0.96396,     0.96496,     0.96597,     0.96697,     0.96797,     0.96897,     0.96997,     0.97097,     0.97197,     0.97297,     0.97397,     0.97497,     0.97598,     0.97698,     0.97798,     0.97898,     0.97998,     0.98098,     0.98198,     0.98298,     0.98398,\n",
              "           0.98498,     0.98599,     0.98699,     0.98799,     0.98899,     0.98999,     0.99099,     0.99199,     0.99299,     0.99399,     0.99499,       0.996,       0.997,       0.998,       0.999,           1]), array([[  0.0066445,   0.0066445,   0.0072991,    0.014741,    0.029481,    0.052655,    0.079754,     0.11263,     0.14087,     0.15969,     0.18496,     0.21381,      0.2389,     0.25161,     0.26575,     0.27845,     0.28131,     0.29045,     0.30091,     0.30569,      0.3173,     0.33005,     0.34653,\n",
              "            0.35563,     0.36802,      0.3776,     0.38921,      0.4008,     0.40211,     0.40342,     0.40472,     0.40602,     0.40944,     0.41683,     0.42239,     0.42479,     0.42718,     0.43283,     0.43896,     0.44291,     0.44544,     0.44708,      0.4487,     0.45033,     0.45195,     0.46054,\n",
              "            0.46366,     0.46591,     0.46816,      0.4704,     0.47464,     0.47904,     0.48082,     0.48187,     0.48292,     0.48397,     0.48502,     0.48607,     0.48711,     0.48815,     0.48919,     0.49275,     0.49971,     0.50212,     0.50432,     0.50651,      0.5087,      0.5121,     0.52323,\n",
              "            0.52901,     0.53366,     0.53501,     0.53635,     0.53769,     0.53902,     0.54036,     0.54169,     0.54302,     0.54434,     0.54756,     0.55927,     0.56534,     0.57137,     0.57251,     0.57359,     0.57468,     0.57576,     0.57684,     0.57792,       0.579,     0.58008,     0.58115,\n",
              "            0.58222,      0.5833,     0.58437,     0.58547,     0.58706,     0.58865,     0.59024,     0.59182,      0.5934,     0.59497,     0.59655,     0.59811,     0.59968,      0.6134,      0.6165,     0.61776,     0.61903,     0.62029,     0.62154,      0.6228,     0.62405,      0.6253,     0.62655,\n",
              "             0.6278,     0.62904,     0.63028,     0.63152,     0.63327,     0.63503,     0.63679,     0.63855,      0.6403,     0.64205,     0.64379,     0.64553,     0.64726,     0.64873,     0.64915,     0.64957,     0.64999,      0.6504,     0.65082,     0.65124,     0.65165,     0.65207,     0.65249,\n",
              "             0.6529,     0.65332,     0.65373,     0.65415,     0.65456,     0.65498,     0.65539,      0.6558,     0.65622,     0.65663,     0.65704,     0.65746,     0.65787,     0.65828,      0.6587,     0.65911,     0.65952,     0.65993,     0.66034,     0.66075,     0.66116,     0.66157,     0.66198,\n",
              "            0.66239,      0.6628,     0.66321,     0.66362,     0.66403,     0.66444,     0.66485,     0.66526,     0.66566,     0.66607,     0.66648,     0.70593,     0.70691,     0.70789,     0.70887,     0.70984,     0.71082,     0.71179,     0.71276,     0.71373,     0.71469,     0.71566,     0.71662,\n",
              "            0.71759,     0.71855,     0.71951,     0.72047,     0.72142,     0.72238,     0.72334,     0.72429,     0.72524,     0.72619,     0.72714,     0.72832,     0.72953,     0.73074,     0.73195,     0.73316,     0.73436,     0.73556,     0.73676,     0.73796,     0.73915,     0.74035,     0.74154,\n",
              "            0.74272,     0.74391,     0.74509,     0.74627,     0.74745,     0.74863,     0.74981,     0.75122,     0.75268,     0.75414,      0.7556,     0.75705,      0.7585,     0.75994,     0.76138,     0.76282,     0.76425,     0.76568,     0.76711,     0.76854,     0.76996,     0.77138,     0.77279,\n",
              "             0.7742,     0.77454,     0.77488,     0.77523,     0.77557,     0.77591,     0.77626,      0.7766,     0.77694,     0.77729,     0.77763,     0.77797,     0.77831,     0.77865,       0.779,     0.77934,     0.77968,     0.78002,     0.78036,      0.7807,     0.78104,     0.78138,     0.78172,\n",
              "            0.78206,      0.7824,     0.78274,     0.78308,     0.78342,     0.78376,      0.7841,     0.78444,     0.78477,     0.78511,     0.78545,     0.78579,     0.78613,     0.78646,      0.7868,     0.78714,     0.78747,     0.78781,     0.78815,     0.78848,     0.78882,     0.78916,     0.78949,\n",
              "            0.78983,     0.79016,      0.7905,     0.79083,     0.79117,      0.7915,     0.79184,     0.79217,     0.79251,     0.79284,     0.79317,     0.79351,     0.79384,     0.79417,     0.79451,     0.79484,     0.79517,      0.7955,     0.79584,     0.79617,      0.7965,     0.79683,     0.79716,\n",
              "             0.7975,     0.79783,     0.79816,     0.79849,     0.79882,     0.79915,     0.79948,     0.79981,     0.80021,     0.80071,     0.80121,     0.80171,      0.8022,      0.8027,      0.8032,     0.80369,     0.80419,     0.80468,     0.80518,     0.80567,     0.80617,     0.80666,     0.80715,\n",
              "            0.80765,     0.80814,     0.80863,     0.80912,     0.80961,      0.8101,      0.8106,     0.81109,     0.81157,     0.81206,     0.81255,     0.81304,     0.81353,     0.81402,      0.8145,     0.81499,     0.81548,     0.81596,     0.81645,     0.81693,     0.81742,      0.8179,     0.81839,\n",
              "            0.81887,     0.81935,     0.81984,     0.82032,      0.8208,     0.82128,     0.82176,     0.82225,     0.82273,     0.82321,     0.82369,     0.82416,     0.82464,     0.82512,      0.8256,     0.82608,     0.82656,     0.82703,     0.82751,     0.83012,     0.83313,     0.83613,     0.83911,\n",
              "            0.84208,     0.84503,     0.84796,     0.85088,     0.85379,     0.85668,      0.8574,     0.85771,     0.85802,     0.85833,     0.85863,     0.85894,     0.85925,     0.85956,     0.85986,     0.86017,     0.86048,     0.86078,     0.86109,      0.8614,      0.8617,     0.86201,     0.86231,\n",
              "            0.86262,     0.86292,     0.86323,     0.86354,     0.86384,     0.86414,     0.86445,     0.86475,     0.86506,     0.86536,     0.86567,     0.86597,     0.86627,     0.86658,     0.86688,     0.86718,     0.86749,     0.86779,     0.86809,     0.86839,      0.8687,       0.869,      0.8693,\n",
              "             0.8696,     0.86991,     0.87021,     0.87051,     0.87081,     0.87111,     0.87141,     0.87171,     0.87201,     0.87231,     0.87261,     0.87291,     0.87321,     0.87351,     0.87381,     0.87411,     0.87441,     0.87471,     0.87501,     0.87531,     0.87561,     0.87591,      0.8762,\n",
              "             0.8765,      0.8768,      0.8771,      0.8774,     0.87769,     0.87799,     0.87829,     0.87859,     0.87888,     0.87918,     0.87948,     0.87977,     0.88007,     0.88036,     0.88066,     0.88096,     0.88125,     0.88155,     0.88184,     0.88214,     0.88243,     0.88273,     0.88302,\n",
              "            0.88332,     0.88361,     0.88391,      0.8842,     0.88449,     0.88479,     0.88508,     0.88538,     0.88567,     0.88596,     0.88625,     0.88655,     0.88684,     0.88713,     0.88743,     0.88772,     0.88801,      0.8883,     0.88859,     0.88889,     0.88899,      0.8891,     0.88921,\n",
              "            0.88931,     0.88942,     0.88953,     0.88963,     0.88974,     0.88985,     0.88995,     0.89006,     0.89016,     0.89027,     0.89038,     0.89048,     0.89059,      0.8907,      0.8908,     0.89091,     0.89101,     0.89112,     0.89123,     0.89133,     0.89144,     0.89154,     0.89165,\n",
              "            0.89176,     0.89186,     0.89197,     0.89207,     0.89218,     0.89229,     0.89239,      0.8925,      0.8926,     0.89271,     0.89281,     0.89292,     0.89303,     0.89313,     0.89324,     0.89334,     0.89345,     0.89355,     0.89366,     0.89376,     0.89387,     0.89398,     0.89408,\n",
              "            0.89419,     0.89429,      0.8944,      0.8945,     0.89461,     0.89471,     0.89482,     0.89492,     0.89503,     0.89514,     0.89524,     0.89535,     0.89545,     0.89556,     0.89566,     0.89577,     0.89587,     0.89598,     0.89608,     0.89619,     0.89629,      0.8964,      0.8965,\n",
              "            0.89661,     0.89671,     0.89682,     0.89692,     0.89703,     0.89713,     0.89724,     0.89734,     0.89745,     0.89755,     0.89766,     0.89776,     0.89787,     0.89797,     0.89808,     0.89818,     0.89829,     0.89839,      0.8985,      0.8986,      0.8987,     0.89881,     0.89891,\n",
              "            0.89902,     0.89912,     0.89923,     0.89933,     0.89944,     0.89954,     0.89965,     0.89975,     0.89985,     0.89996,     0.90006,     0.90017,     0.90027,     0.90038,     0.90048,     0.90058,     0.90069,     0.90079,      0.9009,       0.901,     0.90111,     0.90121,     0.90131,\n",
              "            0.90142,     0.90152,     0.90163,     0.90173,     0.90183,     0.90194,     0.90204,     0.90215,     0.90225,     0.90235,     0.90246,     0.90256,     0.90267,     0.90277,     0.90287,     0.90298,     0.90308,     0.90318,     0.90329,     0.90339,      0.9035,      0.9036,      0.9037,\n",
              "            0.90381,     0.90391,     0.90401,     0.90412,     0.90422,     0.90433,     0.90443,     0.90453,     0.90464,     0.90474,     0.90484,     0.90495,     0.90505,     0.90515,     0.90526,     0.90536,     0.90546,     0.90557,     0.90567,     0.90577,     0.90588,     0.90598,     0.90608,\n",
              "            0.90619,     0.90629,     0.90639,      0.9065,      0.9066,      0.9067,     0.90681,     0.90691,     0.90701,     0.90711,     0.90722,     0.90732,     0.90742,     0.90753,     0.90763,     0.90773,     0.90784,     0.90794,     0.90804,     0.90814,     0.90825,     0.90835,     0.90845,\n",
              "            0.90855,     0.90866,     0.90876,     0.90886,     0.90897,     0.90907,     0.90917,     0.90927,     0.90938,     0.90948,     0.90958,     0.90968,     0.90979,     0.90989,     0.90999,     0.91009,      0.9102,      0.9103,      0.9104,      0.9105,     0.91061,     0.91071,     0.91081,\n",
              "            0.91091,     0.91102,     0.91112,     0.91122,     0.91132,     0.91142,     0.91153,     0.91163,     0.91173,     0.91183,     0.91194,     0.91204,     0.91214,     0.91224,     0.91234,     0.91245,     0.91255,     0.91265,     0.91275,     0.91285,     0.91296,     0.91306,     0.91316,\n",
              "            0.91326,     0.91336,     0.91347,     0.91357,     0.91367,     0.91377,     0.91387,     0.91397,     0.91408,     0.91418,     0.91428,     0.91438,     0.91448,     0.91458,     0.91469,     0.91479,     0.91489,     0.91499,     0.91509,     0.91519,      0.9153,      0.9154,      0.9155,\n",
              "             0.9156,      0.9157,      0.9158,      0.9159,     0.91601,     0.91611,     0.91621,     0.91631,     0.91641,     0.91651,     0.91661,     0.91671,     0.91682,     0.91692,     0.91702,     0.91712,     0.91722,     0.91732,     0.91742,     0.91752,     0.91762,     0.91773,     0.91783,\n",
              "            0.91793,     0.91803,     0.91813,     0.91823,     0.91833,     0.91843,     0.91853,     0.91863,     0.91874,     0.91884,     0.91894,     0.91904,     0.91914,     0.91924,     0.91934,     0.91944,     0.91954,     0.91964,     0.91974,     0.91984,     0.91994,     0.92004,     0.92015,\n",
              "            0.92025,     0.92035,     0.92045,     0.92055,     0.92065,     0.92075,     0.92085,     0.92095,     0.92105,     0.92115,     0.92125,     0.92135,     0.92145,     0.92155,     0.92165,     0.92175,     0.92185,     0.92195,     0.92205,     0.92215,     0.92225,     0.92235,     0.92245,\n",
              "            0.92255,     0.92265,     0.92275,     0.92285,     0.92295,     0.92305,     0.92773,     0.93368,     0.93956,     0.94537,     0.95112,     0.95681,     0.96023,     0.96076,      0.9613,     0.96183,     0.96236,     0.96289,     0.96342,     0.96395,     0.96448,       0.965,     0.96553,\n",
              "            0.96606,     0.96659,     0.96711,     0.96764,     0.96816,     0.96869,     0.96921,     0.96973,     0.97026,     0.97078,      0.9713,     0.97182,     0.97234,     0.97286,     0.97338,      0.9739,     0.97442,     0.97494,     0.97546,     0.97597,     0.97649,     0.97701,     0.97752,\n",
              "            0.97804,     0.97855,     0.97906,     0.97958,     0.98009,      0.9806,     0.98111,     0.98163,     0.98214,     0.98265,     0.98316,     0.98367,     0.98417,     0.98468,     0.98519,      0.9857,      0.9862,     0.98671,     0.98722,     0.98772,     0.98823,     0.98873,     0.98923,\n",
              "            0.98974,     0.99024,     0.99074,     0.99124,     0.99175,     0.99225,     0.99275,     0.99325,     0.99375,     0.99424,     0.99474,     0.99524,     0.99574,     0.99623,     0.99673,     0.99723,     0.99772,     0.99822,     0.99871,      0.9992,      0.9997,     0.99968,     0.99884,\n",
              "              0.998,     0.99715,     0.99631,     0.99547,     0.99462,     0.99377,     0.99293,     0.99208,     0.99122,     0.99037,     0.98952,     0.98866,      0.9878,     0.98695,     0.98609,     0.98522,     0.98436,      0.9835,     0.98263,     0.98176,     0.98089,     0.98002,     0.97915,\n",
              "            0.97828,      0.9774,     0.97653,     0.97565,     0.97477,     0.97389,     0.97301,     0.97212,     0.97124,     0.97035,     0.96946,     0.96857,     0.96768,     0.96678,     0.96589,     0.96499,      0.9641,      0.9632,      0.9623,     0.96139,     0.96049,     0.95958,     0.95868,\n",
              "            0.95777,     0.95686,     0.95159,     0.94371,     0.93571,     0.92758,     0.91933,     0.91096,     0.90491,     0.89949,     0.89402,     0.88849,     0.88291,     0.87727,     0.87157,     0.86582,     0.86001,     0.85517,      0.8513,      0.8474,     0.84347,     0.83952,     0.83554,\n",
              "            0.83153,      0.8275,     0.82343,     0.81934,     0.81522,     0.81107,     0.80689,     0.80269,     0.79355,     0.77552,     0.75695,      0.7378,      0.7268,     0.71605,     0.70513,     0.69402,     0.68272,     0.67121,     0.65891,     0.64598,     0.63281,     0.61937,     0.60567,\n",
              "            0.59169,       0.544,     0.48867,     0.44862,     0.40638,     0.37899,     0.35366,     0.32753,     0.30055,     0.22551,           0]]), 'Confidence', 'F1'], [array([          0,    0.001001,    0.002002,    0.003003,    0.004004,    0.005005,    0.006006,    0.007007,    0.008008,    0.009009,     0.01001,    0.011011,    0.012012,    0.013013,    0.014014,    0.015015,    0.016016,    0.017017,    0.018018,    0.019019,     0.02002,    0.021021,    0.022022,    0.023023,\n",
              "          0.024024,    0.025025,    0.026026,    0.027027,    0.028028,    0.029029,     0.03003,    0.031031,    0.032032,    0.033033,    0.034034,    0.035035,    0.036036,    0.037037,    0.038038,    0.039039,     0.04004,    0.041041,    0.042042,    0.043043,    0.044044,    0.045045,    0.046046,    0.047047,\n",
              "          0.048048,    0.049049,     0.05005,    0.051051,    0.052052,    0.053053,    0.054054,    0.055055,    0.056056,    0.057057,    0.058058,    0.059059,     0.06006,    0.061061,    0.062062,    0.063063,    0.064064,    0.065065,    0.066066,    0.067067,    0.068068,    0.069069,     0.07007,    0.071071,\n",
              "          0.072072,    0.073073,    0.074074,    0.075075,    0.076076,    0.077077,    0.078078,    0.079079,     0.08008,    0.081081,    0.082082,    0.083083,    0.084084,    0.085085,    0.086086,    0.087087,    0.088088,    0.089089,     0.09009,    0.091091,    0.092092,    0.093093,    0.094094,    0.095095,\n",
              "          0.096096,    0.097097,    0.098098,    0.099099,      0.1001,      0.1011,      0.1021,      0.1031,      0.1041,     0.10511,     0.10611,     0.10711,     0.10811,     0.10911,     0.11011,     0.11111,     0.11211,     0.11311,     0.11411,     0.11512,     0.11612,     0.11712,     0.11812,     0.11912,\n",
              "           0.12012,     0.12112,     0.12212,     0.12312,     0.12412,     0.12513,     0.12613,     0.12713,     0.12813,     0.12913,     0.13013,     0.13113,     0.13213,     0.13313,     0.13413,     0.13514,     0.13614,     0.13714,     0.13814,     0.13914,     0.14014,     0.14114,     0.14214,     0.14314,\n",
              "           0.14414,     0.14515,     0.14615,     0.14715,     0.14815,     0.14915,     0.15015,     0.15115,     0.15215,     0.15315,     0.15415,     0.15516,     0.15616,     0.15716,     0.15816,     0.15916,     0.16016,     0.16116,     0.16216,     0.16316,     0.16416,     0.16517,     0.16617,     0.16717,\n",
              "           0.16817,     0.16917,     0.17017,     0.17117,     0.17217,     0.17317,     0.17417,     0.17518,     0.17618,     0.17718,     0.17818,     0.17918,     0.18018,     0.18118,     0.18218,     0.18318,     0.18418,     0.18519,     0.18619,     0.18719,     0.18819,     0.18919,     0.19019,     0.19119,\n",
              "           0.19219,     0.19319,     0.19419,      0.1952,      0.1962,      0.1972,      0.1982,      0.1992,      0.2002,      0.2012,      0.2022,      0.2032,      0.2042,     0.20521,     0.20621,     0.20721,     0.20821,     0.20921,     0.21021,     0.21121,     0.21221,     0.21321,     0.21421,     0.21522,\n",
              "           0.21622,     0.21722,     0.21822,     0.21922,     0.22022,     0.22122,     0.22222,     0.22322,     0.22422,     0.22523,     0.22623,     0.22723,     0.22823,     0.22923,     0.23023,     0.23123,     0.23223,     0.23323,     0.23423,     0.23524,     0.23624,     0.23724,     0.23824,     0.23924,\n",
              "           0.24024,     0.24124,     0.24224,     0.24324,     0.24424,     0.24525,     0.24625,     0.24725,     0.24825,     0.24925,     0.25025,     0.25125,     0.25225,     0.25325,     0.25425,     0.25526,     0.25626,     0.25726,     0.25826,     0.25926,     0.26026,     0.26126,     0.26226,     0.26326,\n",
              "           0.26426,     0.26527,     0.26627,     0.26727,     0.26827,     0.26927,     0.27027,     0.27127,     0.27227,     0.27327,     0.27427,     0.27528,     0.27628,     0.27728,     0.27828,     0.27928,     0.28028,     0.28128,     0.28228,     0.28328,     0.28428,     0.28529,     0.28629,     0.28729,\n",
              "           0.28829,     0.28929,     0.29029,     0.29129,     0.29229,     0.29329,     0.29429,      0.2953,      0.2963,      0.2973,      0.2983,      0.2993,      0.3003,      0.3013,      0.3023,      0.3033,      0.3043,     0.30531,     0.30631,     0.30731,     0.30831,     0.30931,     0.31031,     0.31131,\n",
              "           0.31231,     0.31331,     0.31431,     0.31532,     0.31632,     0.31732,     0.31832,     0.31932,     0.32032,     0.32132,     0.32232,     0.32332,     0.32432,     0.32533,     0.32633,     0.32733,     0.32833,     0.32933,     0.33033,     0.33133,     0.33233,     0.33333,     0.33433,     0.33534,\n",
              "           0.33634,     0.33734,     0.33834,     0.33934,     0.34034,     0.34134,     0.34234,     0.34334,     0.34434,     0.34535,     0.34635,     0.34735,     0.34835,     0.34935,     0.35035,     0.35135,     0.35235,     0.35335,     0.35435,     0.35536,     0.35636,     0.35736,     0.35836,     0.35936,\n",
              "           0.36036,     0.36136,     0.36236,     0.36336,     0.36436,     0.36537,     0.36637,     0.36737,     0.36837,     0.36937,     0.37037,     0.37137,     0.37237,     0.37337,     0.37437,     0.37538,     0.37638,     0.37738,     0.37838,     0.37938,     0.38038,     0.38138,     0.38238,     0.38338,\n",
              "           0.38438,     0.38539,     0.38639,     0.38739,     0.38839,     0.38939,     0.39039,     0.39139,     0.39239,     0.39339,     0.39439,      0.3954,      0.3964,      0.3974,      0.3984,      0.3994,      0.4004,      0.4014,      0.4024,      0.4034,      0.4044,     0.40541,     0.40641,     0.40741,\n",
              "           0.40841,     0.40941,     0.41041,     0.41141,     0.41241,     0.41341,     0.41441,     0.41542,     0.41642,     0.41742,     0.41842,     0.41942,     0.42042,     0.42142,     0.42242,     0.42342,     0.42442,     0.42543,     0.42643,     0.42743,     0.42843,     0.42943,     0.43043,     0.43143,\n",
              "           0.43243,     0.43343,     0.43443,     0.43544,     0.43644,     0.43744,     0.43844,     0.43944,     0.44044,     0.44144,     0.44244,     0.44344,     0.44444,     0.44545,     0.44645,     0.44745,     0.44845,     0.44945,     0.45045,     0.45145,     0.45245,     0.45345,     0.45445,     0.45546,\n",
              "           0.45646,     0.45746,     0.45846,     0.45946,     0.46046,     0.46146,     0.46246,     0.46346,     0.46446,     0.46547,     0.46647,     0.46747,     0.46847,     0.46947,     0.47047,     0.47147,     0.47247,     0.47347,     0.47447,     0.47548,     0.47648,     0.47748,     0.47848,     0.47948,\n",
              "           0.48048,     0.48148,     0.48248,     0.48348,     0.48448,     0.48549,     0.48649,     0.48749,     0.48849,     0.48949,     0.49049,     0.49149,     0.49249,     0.49349,     0.49449,      0.4955,      0.4965,      0.4975,      0.4985,      0.4995,      0.5005,      0.5015,      0.5025,      0.5035,\n",
              "            0.5045,     0.50551,     0.50651,     0.50751,     0.50851,     0.50951,     0.51051,     0.51151,     0.51251,     0.51351,     0.51451,     0.51552,     0.51652,     0.51752,     0.51852,     0.51952,     0.52052,     0.52152,     0.52252,     0.52352,     0.52452,     0.52553,     0.52653,     0.52753,\n",
              "           0.52853,     0.52953,     0.53053,     0.53153,     0.53253,     0.53353,     0.53453,     0.53554,     0.53654,     0.53754,     0.53854,     0.53954,     0.54054,     0.54154,     0.54254,     0.54354,     0.54454,     0.54555,     0.54655,     0.54755,     0.54855,     0.54955,     0.55055,     0.55155,\n",
              "           0.55255,     0.55355,     0.55455,     0.55556,     0.55656,     0.55756,     0.55856,     0.55956,     0.56056,     0.56156,     0.56256,     0.56356,     0.56456,     0.56557,     0.56657,     0.56757,     0.56857,     0.56957,     0.57057,     0.57157,     0.57257,     0.57357,     0.57457,     0.57558,\n",
              "           0.57658,     0.57758,     0.57858,     0.57958,     0.58058,     0.58158,     0.58258,     0.58358,     0.58458,     0.58559,     0.58659,     0.58759,     0.58859,     0.58959,     0.59059,     0.59159,     0.59259,     0.59359,     0.59459,      0.5956,      0.5966,      0.5976,      0.5986,      0.5996,\n",
              "            0.6006,      0.6016,      0.6026,      0.6036,      0.6046,     0.60561,     0.60661,     0.60761,     0.60861,     0.60961,     0.61061,     0.61161,     0.61261,     0.61361,     0.61461,     0.61562,     0.61662,     0.61762,     0.61862,     0.61962,     0.62062,     0.62162,     0.62262,     0.62362,\n",
              "           0.62462,     0.62563,     0.62663,     0.62763,     0.62863,     0.62963,     0.63063,     0.63163,     0.63263,     0.63363,     0.63463,     0.63564,     0.63664,     0.63764,     0.63864,     0.63964,     0.64064,     0.64164,     0.64264,     0.64364,     0.64464,     0.64565,     0.64665,     0.64765,\n",
              "           0.64865,     0.64965,     0.65065,     0.65165,     0.65265,     0.65365,     0.65465,     0.65566,     0.65666,     0.65766,     0.65866,     0.65966,     0.66066,     0.66166,     0.66266,     0.66366,     0.66466,     0.66567,     0.66667,     0.66767,     0.66867,     0.66967,     0.67067,     0.67167,\n",
              "           0.67267,     0.67367,     0.67467,     0.67568,     0.67668,     0.67768,     0.67868,     0.67968,     0.68068,     0.68168,     0.68268,     0.68368,     0.68468,     0.68569,     0.68669,     0.68769,     0.68869,     0.68969,     0.69069,     0.69169,     0.69269,     0.69369,     0.69469,      0.6957,\n",
              "            0.6967,      0.6977,      0.6987,      0.6997,      0.7007,      0.7017,      0.7027,      0.7037,      0.7047,     0.70571,     0.70671,     0.70771,     0.70871,     0.70971,     0.71071,     0.71171,     0.71271,     0.71371,     0.71471,     0.71572,     0.71672,     0.71772,     0.71872,     0.71972,\n",
              "           0.72072,     0.72172,     0.72272,     0.72372,     0.72472,     0.72573,     0.72673,     0.72773,     0.72873,     0.72973,     0.73073,     0.73173,     0.73273,     0.73373,     0.73473,     0.73574,     0.73674,     0.73774,     0.73874,     0.73974,     0.74074,     0.74174,     0.74274,     0.74374,\n",
              "           0.74474,     0.74575,     0.74675,     0.74775,     0.74875,     0.74975,     0.75075,     0.75175,     0.75275,     0.75375,     0.75475,     0.75576,     0.75676,     0.75776,     0.75876,     0.75976,     0.76076,     0.76176,     0.76276,     0.76376,     0.76476,     0.76577,     0.76677,     0.76777,\n",
              "           0.76877,     0.76977,     0.77077,     0.77177,     0.77277,     0.77377,     0.77477,     0.77578,     0.77678,     0.77778,     0.77878,     0.77978,     0.78078,     0.78178,     0.78278,     0.78378,     0.78478,     0.78579,     0.78679,     0.78779,     0.78879,     0.78979,     0.79079,     0.79179,\n",
              "           0.79279,     0.79379,     0.79479,      0.7958,      0.7968,      0.7978,      0.7988,      0.7998,      0.8008,      0.8018,      0.8028,      0.8038,      0.8048,     0.80581,     0.80681,     0.80781,     0.80881,     0.80981,     0.81081,     0.81181,     0.81281,     0.81381,     0.81481,     0.81582,\n",
              "           0.81682,     0.81782,     0.81882,     0.81982,     0.82082,     0.82182,     0.82282,     0.82382,     0.82482,     0.82583,     0.82683,     0.82783,     0.82883,     0.82983,     0.83083,     0.83183,     0.83283,     0.83383,     0.83483,     0.83584,     0.83684,     0.83784,     0.83884,     0.83984,\n",
              "           0.84084,     0.84184,     0.84284,     0.84384,     0.84484,     0.84585,     0.84685,     0.84785,     0.84885,     0.84985,     0.85085,     0.85185,     0.85285,     0.85385,     0.85485,     0.85586,     0.85686,     0.85786,     0.85886,     0.85986,     0.86086,     0.86186,     0.86286,     0.86386,\n",
              "           0.86486,     0.86587,     0.86687,     0.86787,     0.86887,     0.86987,     0.87087,     0.87187,     0.87287,     0.87387,     0.87487,     0.87588,     0.87688,     0.87788,     0.87888,     0.87988,     0.88088,     0.88188,     0.88288,     0.88388,     0.88488,     0.88589,     0.88689,     0.88789,\n",
              "           0.88889,     0.88989,     0.89089,     0.89189,     0.89289,     0.89389,     0.89489,      0.8959,      0.8969,      0.8979,      0.8989,      0.8999,      0.9009,      0.9019,      0.9029,      0.9039,      0.9049,     0.90591,     0.90691,     0.90791,     0.90891,     0.90991,     0.91091,     0.91191,\n",
              "           0.91291,     0.91391,     0.91491,     0.91592,     0.91692,     0.91792,     0.91892,     0.91992,     0.92092,     0.92192,     0.92292,     0.92392,     0.92492,     0.92593,     0.92693,     0.92793,     0.92893,     0.92993,     0.93093,     0.93193,     0.93293,     0.93393,     0.93493,     0.93594,\n",
              "           0.93694,     0.93794,     0.93894,     0.93994,     0.94094,     0.94194,     0.94294,     0.94394,     0.94494,     0.94595,     0.94695,     0.94795,     0.94895,     0.94995,     0.95095,     0.95195,     0.95295,     0.95395,     0.95495,     0.95596,     0.95696,     0.95796,     0.95896,     0.95996,\n",
              "           0.96096,     0.96196,     0.96296,     0.96396,     0.96496,     0.96597,     0.96697,     0.96797,     0.96897,     0.96997,     0.97097,     0.97197,     0.97297,     0.97397,     0.97497,     0.97598,     0.97698,     0.97798,     0.97898,     0.97998,     0.98098,     0.98198,     0.98298,     0.98398,\n",
              "           0.98498,     0.98599,     0.98699,     0.98799,     0.98899,     0.98999,     0.99099,     0.99199,     0.99299,     0.99399,     0.99499,       0.996,       0.997,       0.998,       0.999,           1]), array([[  0.0033333,   0.0033333,   0.0036629,   0.0074253,    0.014961,     0.02704,    0.041533,    0.059677,     0.07577,    0.086773,      0.1019,      0.1197,     0.13565,     0.14391,     0.15324,     0.16175,     0.16367,      0.1699,      0.1771,     0.18042,     0.18856,     0.19764,     0.20958,\n",
              "            0.21627,      0.2255,     0.23274,     0.24163,     0.25063,     0.25165,     0.25267,      0.2537,     0.25472,     0.25742,     0.26329,     0.26774,     0.26967,      0.2716,     0.27619,      0.2812,     0.28445,     0.28654,     0.28789,     0.28925,      0.2906,     0.29195,     0.29915,\n",
              "             0.3018,     0.30371,     0.30562,     0.30753,     0.31117,     0.31496,      0.3165,     0.31741,     0.31833,     0.31924,     0.32015,     0.32106,     0.32197,     0.32289,      0.3238,     0.32692,     0.33308,     0.33522,     0.33718,     0.33915,     0.34111,     0.34417,     0.35431,\n",
              "            0.35963,     0.36394,     0.36519,     0.36645,      0.3677,     0.36895,      0.3702,     0.37145,      0.3727,     0.37395,     0.37699,     0.38818,     0.39406,     0.39994,     0.40106,     0.40212,     0.40319,     0.40426,     0.40532,     0.40639,     0.40746,     0.40853,     0.40959,\n",
              "            0.41066,     0.41173,     0.41279,     0.41389,     0.41549,     0.41708,     0.41868,     0.42027,     0.42187,     0.42346,     0.42506,     0.42665,     0.42824,     0.44237,     0.44561,     0.44693,     0.44825,     0.44958,      0.4509,     0.45222,     0.45354,     0.45487,     0.45619,\n",
              "            0.45751,     0.45883,     0.46016,     0.46148,     0.46334,     0.46524,     0.46713,     0.46902,     0.47091,     0.47281,      0.4747,     0.47659,     0.47848,     0.48009,     0.48055,     0.48101,     0.48147,     0.48192,     0.48238,     0.48284,      0.4833,     0.48376,     0.48421,\n",
              "            0.48467,     0.48513,     0.48559,     0.48605,      0.4865,     0.48696,     0.48742,     0.48788,     0.48834,     0.48879,     0.48925,     0.48971,     0.49017,     0.49063,     0.49109,     0.49154,       0.492,     0.49246,     0.49292,     0.49338,     0.49383,     0.49429,     0.49475,\n",
              "            0.49521,     0.49567,     0.49612,     0.49658,     0.49704,      0.4975,     0.49796,     0.49842,     0.49887,     0.49933,     0.49979,     0.54552,     0.54669,     0.54786,     0.54903,      0.5502,     0.55137,     0.55254,     0.55371,     0.55488,     0.55605,     0.55722,     0.55839,\n",
              "            0.55956,     0.56073,      0.5619,     0.56307,     0.56424,     0.56541,     0.56658,     0.56775,     0.56892,     0.57009,     0.57126,     0.57272,     0.57422,     0.57572,     0.57722,     0.57873,     0.58023,     0.58173,     0.58323,     0.58473,     0.58623,     0.58774,     0.58924,\n",
              "            0.59074,     0.59224,     0.59374,     0.59525,     0.59675,     0.59825,     0.59975,     0.60157,     0.60344,     0.60532,      0.6072,     0.60907,     0.61095,     0.61282,      0.6147,     0.61658,     0.61845,     0.62033,     0.62221,     0.62408,     0.62596,     0.62784,     0.62971,\n",
              "            0.63158,     0.63204,      0.6325,     0.63296,     0.63341,     0.63387,     0.63433,     0.63479,     0.63525,      0.6357,     0.63616,     0.63662,     0.63708,     0.63754,       0.638,     0.63845,     0.63891,     0.63937,     0.63983,     0.64029,     0.64074,      0.6412,     0.64166,\n",
              "            0.64212,     0.64258,     0.64304,     0.64349,     0.64395,     0.64441,     0.64487,     0.64533,     0.64578,     0.64624,      0.6467,     0.64716,     0.64762,     0.64808,     0.64853,     0.64899,     0.64945,     0.64991,     0.65037,     0.65082,     0.65128,     0.65174,      0.6522,\n",
              "            0.65266,     0.65312,     0.65357,     0.65403,     0.65449,     0.65495,     0.65541,     0.65586,     0.65632,     0.65678,     0.65724,      0.6577,     0.65815,     0.65861,     0.65907,     0.65953,     0.65999,     0.66045,      0.6609,     0.66136,     0.66182,     0.66228,     0.66274,\n",
              "            0.66319,     0.66365,     0.66411,     0.66457,     0.66503,     0.66549,     0.66594,      0.6664,     0.66696,     0.66765,     0.66835,     0.66904,     0.66973,     0.67042,     0.67112,     0.67181,      0.6725,      0.6732,     0.67389,     0.67458,     0.67528,     0.67597,     0.67666,\n",
              "            0.67736,     0.67805,     0.67874,     0.67943,     0.68013,     0.68082,     0.68151,     0.68221,      0.6829,     0.68359,     0.68429,     0.68498,     0.68567,     0.68636,     0.68706,     0.68775,     0.68844,     0.68914,     0.68983,     0.69052,     0.69122,     0.69191,      0.6926,\n",
              "             0.6933,     0.69399,     0.69468,     0.69537,     0.69607,     0.69676,     0.69745,     0.69815,     0.69884,     0.69953,     0.70023,     0.70092,     0.70161,      0.7023,       0.703,     0.70369,     0.70438,     0.70508,     0.70577,     0.70958,     0.71399,      0.7184,     0.72282,\n",
              "            0.72723,     0.73164,     0.73605,     0.74046,     0.74488,     0.74929,      0.7504,     0.75087,     0.75134,     0.75181,     0.75229,     0.75276,     0.75323,      0.7537,     0.75417,     0.75465,     0.75512,     0.75559,     0.75606,     0.75654,     0.75701,     0.75748,     0.75795,\n",
              "            0.75843,      0.7589,     0.75937,     0.75984,     0.76032,     0.76079,     0.76126,     0.76173,     0.76221,     0.76268,     0.76315,     0.76362,     0.76409,     0.76457,     0.76504,     0.76551,     0.76598,     0.76646,     0.76693,      0.7674,     0.76787,     0.76835,     0.76882,\n",
              "            0.76929,     0.76976,     0.77024,     0.77071,     0.77118,     0.77165,     0.77212,      0.7726,     0.77307,     0.77354,     0.77401,     0.77449,     0.77496,     0.77543,      0.7759,     0.77638,     0.77685,     0.77732,     0.77779,     0.77827,     0.77874,     0.77921,     0.77968,\n",
              "            0.78015,     0.78063,      0.7811,     0.78157,     0.78204,     0.78252,     0.78299,     0.78346,     0.78393,     0.78441,     0.78488,     0.78535,     0.78582,      0.7863,     0.78677,     0.78724,     0.78771,     0.78818,     0.78866,     0.78913,      0.7896,     0.79007,     0.79055,\n",
              "            0.79102,     0.79149,     0.79196,     0.79244,     0.79291,     0.79338,     0.79385,     0.79433,      0.7948,     0.79527,     0.79574,     0.79622,     0.79669,     0.79716,     0.79763,      0.7981,     0.79858,     0.79905,     0.79952,     0.79999,     0.80017,     0.80034,     0.80052,\n",
              "            0.80069,     0.80086,     0.80103,     0.80121,     0.80138,     0.80155,     0.80172,      0.8019,     0.80207,     0.80224,     0.80241,     0.80259,     0.80276,     0.80293,      0.8031,     0.80328,     0.80345,     0.80362,     0.80379,     0.80397,     0.80414,     0.80431,     0.80448,\n",
              "            0.80466,     0.80483,       0.805,     0.80517,     0.80535,     0.80552,     0.80569,     0.80586,     0.80604,     0.80621,     0.80638,     0.80655,     0.80673,      0.8069,     0.80707,     0.80724,     0.80742,     0.80759,     0.80776,     0.80793,     0.80811,     0.80828,     0.80845,\n",
              "            0.80862,      0.8088,     0.80897,     0.80914,     0.80931,     0.80949,     0.80966,     0.80983,        0.81,     0.81018,     0.81035,     0.81052,     0.81069,     0.81087,     0.81104,     0.81121,     0.81138,     0.81156,     0.81173,      0.8119,     0.81207,     0.81225,     0.81242,\n",
              "            0.81259,     0.81276,     0.81294,     0.81311,     0.81328,     0.81345,     0.81363,      0.8138,     0.81397,     0.81415,     0.81432,     0.81449,     0.81466,     0.81484,     0.81501,     0.81518,     0.81535,     0.81553,      0.8157,     0.81587,     0.81604,     0.81622,     0.81639,\n",
              "            0.81656,     0.81673,     0.81691,     0.81708,     0.81725,     0.81742,      0.8176,     0.81777,     0.81794,     0.81811,     0.81829,     0.81846,     0.81863,      0.8188,     0.81898,     0.81915,     0.81932,     0.81949,     0.81967,     0.81984,     0.82001,     0.82018,     0.82036,\n",
              "            0.82053,      0.8207,     0.82087,     0.82105,     0.82122,     0.82139,     0.82156,     0.82174,     0.82191,     0.82208,     0.82225,     0.82243,      0.8226,     0.82277,     0.82294,     0.82312,     0.82329,     0.82346,     0.82363,     0.82381,     0.82398,     0.82415,     0.82432,\n",
              "             0.8245,     0.82467,     0.82484,     0.82501,     0.82519,     0.82536,     0.82553,      0.8257,     0.82588,     0.82605,     0.82622,     0.82639,     0.82657,     0.82674,     0.82691,     0.82708,     0.82726,     0.82743,      0.8276,     0.82777,     0.82795,     0.82812,     0.82829,\n",
              "            0.82846,     0.82864,     0.82881,     0.82898,     0.82915,     0.82933,      0.8295,     0.82967,     0.82984,     0.83002,     0.83019,     0.83036,     0.83054,     0.83071,     0.83088,     0.83105,     0.83123,      0.8314,     0.83157,     0.83174,     0.83192,     0.83209,     0.83226,\n",
              "            0.83243,     0.83261,     0.83278,     0.83295,     0.83312,      0.8333,     0.83347,     0.83364,     0.83381,     0.83399,     0.83416,     0.83433,      0.8345,     0.83468,     0.83485,     0.83502,     0.83519,     0.83537,     0.83554,     0.83571,     0.83588,     0.83606,     0.83623,\n",
              "             0.8364,     0.83657,     0.83675,     0.83692,     0.83709,     0.83726,     0.83744,     0.83761,     0.83778,     0.83795,     0.83813,      0.8383,     0.83847,     0.83864,     0.83882,     0.83899,     0.83916,     0.83933,     0.83951,     0.83968,     0.83985,     0.84002,      0.8402,\n",
              "            0.84037,     0.84054,     0.84071,     0.84089,     0.84106,     0.84123,      0.8414,     0.84158,     0.84175,     0.84192,     0.84209,     0.84227,     0.84244,     0.84261,     0.84278,     0.84296,     0.84313,      0.8433,     0.84347,     0.84365,     0.84382,     0.84399,     0.84416,\n",
              "            0.84434,     0.84451,     0.84468,     0.84485,     0.84503,      0.8452,     0.84537,     0.84554,     0.84572,     0.84589,     0.84606,     0.84623,     0.84641,     0.84658,     0.84675,     0.84693,      0.8471,     0.84727,     0.84744,     0.84762,     0.84779,     0.84796,     0.84813,\n",
              "            0.84831,     0.84848,     0.84865,     0.84882,       0.849,     0.84917,     0.84934,     0.84951,     0.84969,     0.84986,     0.85003,      0.8502,     0.85038,     0.85055,     0.85072,     0.85089,     0.85107,     0.85124,     0.85141,     0.85158,     0.85176,     0.85193,      0.8521,\n",
              "            0.85227,     0.85245,     0.85262,     0.85279,     0.85296,     0.85314,     0.85331,     0.85348,     0.85365,     0.85383,       0.854,     0.85417,     0.85434,     0.85452,     0.85469,     0.85486,     0.85503,     0.85521,     0.85538,     0.85555,     0.85572,      0.8559,     0.85607,\n",
              "            0.85624,     0.85641,     0.85659,     0.85676,     0.85693,      0.8571,     0.86521,     0.87561,     0.88601,      0.8964,      0.9068,      0.9172,     0.92351,     0.92449,     0.92548,     0.92646,     0.92745,     0.92843,     0.92942,      0.9304,     0.93139,     0.93238,     0.93336,\n",
              "            0.93435,     0.93533,     0.93632,      0.9373,     0.93829,     0.93927,     0.94026,     0.94125,     0.94223,     0.94322,      0.9442,     0.94519,     0.94617,     0.94716,     0.94815,     0.94913,     0.95012,      0.9511,     0.95209,     0.95307,     0.95406,     0.95504,     0.95603,\n",
              "            0.95702,       0.958,     0.95899,     0.95997,     0.96096,     0.96194,     0.96293,     0.96391,      0.9649,     0.96589,     0.96687,     0.96786,     0.96884,     0.96983,     0.97081,      0.9718,     0.97279,     0.97377,     0.97476,     0.97574,     0.97673,     0.97771,      0.9787,\n",
              "            0.97968,     0.98067,     0.98166,     0.98264,     0.98363,     0.98461,      0.9856,     0.98658,     0.98757,     0.98855,     0.98954,     0.99053,     0.99151,      0.9925,     0.99348,     0.99447,     0.99545,     0.99644,     0.99743,     0.99841,      0.9994,           1,           1,\n",
              "                  1,           1,           1,           1,           1,           1,           1,           1,           1,           1,           1,           1,           1,           1,           1,           1,           1,           1,           1,           1,           1,           1,           1,\n",
              "                  1,           1,           1,           1,           1,           1,           1,           1,           1,           1,           1,           1,           1,           1,           1,           1,           1,           1,           1,           1,           1,           1,           1,\n",
              "                  1,           1,           1,           1,           1,           1,           1,           1,           1,           1,           1,           1,           1,           1,           1,           1,           1,           1,           1,           1,           1,           1,           1,\n",
              "                  1,           1,           1,           1,           1,           1,           1,           1,           1,           1,           1,           1,           1,           1,           1,           1,           1,           1,           1,           1,           1,           1,           1,\n",
              "                  1,           1,           1,           1,           1,           1,           1,           1,           1,           1,           1]]), 'Confidence', 'Precision'], [array([          0,    0.001001,    0.002002,    0.003003,    0.004004,    0.005005,    0.006006,    0.007007,    0.008008,    0.009009,     0.01001,    0.011011,    0.012012,    0.013013,    0.014014,    0.015015,    0.016016,    0.017017,    0.018018,    0.019019,     0.02002,    0.021021,    0.022022,    0.023023,\n",
              "          0.024024,    0.025025,    0.026026,    0.027027,    0.028028,    0.029029,     0.03003,    0.031031,    0.032032,    0.033033,    0.034034,    0.035035,    0.036036,    0.037037,    0.038038,    0.039039,     0.04004,    0.041041,    0.042042,    0.043043,    0.044044,    0.045045,    0.046046,    0.047047,\n",
              "          0.048048,    0.049049,     0.05005,    0.051051,    0.052052,    0.053053,    0.054054,    0.055055,    0.056056,    0.057057,    0.058058,    0.059059,     0.06006,    0.061061,    0.062062,    0.063063,    0.064064,    0.065065,    0.066066,    0.067067,    0.068068,    0.069069,     0.07007,    0.071071,\n",
              "          0.072072,    0.073073,    0.074074,    0.075075,    0.076076,    0.077077,    0.078078,    0.079079,     0.08008,    0.081081,    0.082082,    0.083083,    0.084084,    0.085085,    0.086086,    0.087087,    0.088088,    0.089089,     0.09009,    0.091091,    0.092092,    0.093093,    0.094094,    0.095095,\n",
              "          0.096096,    0.097097,    0.098098,    0.099099,      0.1001,      0.1011,      0.1021,      0.1031,      0.1041,     0.10511,     0.10611,     0.10711,     0.10811,     0.10911,     0.11011,     0.11111,     0.11211,     0.11311,     0.11411,     0.11512,     0.11612,     0.11712,     0.11812,     0.11912,\n",
              "           0.12012,     0.12112,     0.12212,     0.12312,     0.12412,     0.12513,     0.12613,     0.12713,     0.12813,     0.12913,     0.13013,     0.13113,     0.13213,     0.13313,     0.13413,     0.13514,     0.13614,     0.13714,     0.13814,     0.13914,     0.14014,     0.14114,     0.14214,     0.14314,\n",
              "           0.14414,     0.14515,     0.14615,     0.14715,     0.14815,     0.14915,     0.15015,     0.15115,     0.15215,     0.15315,     0.15415,     0.15516,     0.15616,     0.15716,     0.15816,     0.15916,     0.16016,     0.16116,     0.16216,     0.16316,     0.16416,     0.16517,     0.16617,     0.16717,\n",
              "           0.16817,     0.16917,     0.17017,     0.17117,     0.17217,     0.17317,     0.17417,     0.17518,     0.17618,     0.17718,     0.17818,     0.17918,     0.18018,     0.18118,     0.18218,     0.18318,     0.18418,     0.18519,     0.18619,     0.18719,     0.18819,     0.18919,     0.19019,     0.19119,\n",
              "           0.19219,     0.19319,     0.19419,      0.1952,      0.1962,      0.1972,      0.1982,      0.1992,      0.2002,      0.2012,      0.2022,      0.2032,      0.2042,     0.20521,     0.20621,     0.20721,     0.20821,     0.20921,     0.21021,     0.21121,     0.21221,     0.21321,     0.21421,     0.21522,\n",
              "           0.21622,     0.21722,     0.21822,     0.21922,     0.22022,     0.22122,     0.22222,     0.22322,     0.22422,     0.22523,     0.22623,     0.22723,     0.22823,     0.22923,     0.23023,     0.23123,     0.23223,     0.23323,     0.23423,     0.23524,     0.23624,     0.23724,     0.23824,     0.23924,\n",
              "           0.24024,     0.24124,     0.24224,     0.24324,     0.24424,     0.24525,     0.24625,     0.24725,     0.24825,     0.24925,     0.25025,     0.25125,     0.25225,     0.25325,     0.25425,     0.25526,     0.25626,     0.25726,     0.25826,     0.25926,     0.26026,     0.26126,     0.26226,     0.26326,\n",
              "           0.26426,     0.26527,     0.26627,     0.26727,     0.26827,     0.26927,     0.27027,     0.27127,     0.27227,     0.27327,     0.27427,     0.27528,     0.27628,     0.27728,     0.27828,     0.27928,     0.28028,     0.28128,     0.28228,     0.28328,     0.28428,     0.28529,     0.28629,     0.28729,\n",
              "           0.28829,     0.28929,     0.29029,     0.29129,     0.29229,     0.29329,     0.29429,      0.2953,      0.2963,      0.2973,      0.2983,      0.2993,      0.3003,      0.3013,      0.3023,      0.3033,      0.3043,     0.30531,     0.30631,     0.30731,     0.30831,     0.30931,     0.31031,     0.31131,\n",
              "           0.31231,     0.31331,     0.31431,     0.31532,     0.31632,     0.31732,     0.31832,     0.31932,     0.32032,     0.32132,     0.32232,     0.32332,     0.32432,     0.32533,     0.32633,     0.32733,     0.32833,     0.32933,     0.33033,     0.33133,     0.33233,     0.33333,     0.33433,     0.33534,\n",
              "           0.33634,     0.33734,     0.33834,     0.33934,     0.34034,     0.34134,     0.34234,     0.34334,     0.34434,     0.34535,     0.34635,     0.34735,     0.34835,     0.34935,     0.35035,     0.35135,     0.35235,     0.35335,     0.35435,     0.35536,     0.35636,     0.35736,     0.35836,     0.35936,\n",
              "           0.36036,     0.36136,     0.36236,     0.36336,     0.36436,     0.36537,     0.36637,     0.36737,     0.36837,     0.36937,     0.37037,     0.37137,     0.37237,     0.37337,     0.37437,     0.37538,     0.37638,     0.37738,     0.37838,     0.37938,     0.38038,     0.38138,     0.38238,     0.38338,\n",
              "           0.38438,     0.38539,     0.38639,     0.38739,     0.38839,     0.38939,     0.39039,     0.39139,     0.39239,     0.39339,     0.39439,      0.3954,      0.3964,      0.3974,      0.3984,      0.3994,      0.4004,      0.4014,      0.4024,      0.4034,      0.4044,     0.40541,     0.40641,     0.40741,\n",
              "           0.40841,     0.40941,     0.41041,     0.41141,     0.41241,     0.41341,     0.41441,     0.41542,     0.41642,     0.41742,     0.41842,     0.41942,     0.42042,     0.42142,     0.42242,     0.42342,     0.42442,     0.42543,     0.42643,     0.42743,     0.42843,     0.42943,     0.43043,     0.43143,\n",
              "           0.43243,     0.43343,     0.43443,     0.43544,     0.43644,     0.43744,     0.43844,     0.43944,     0.44044,     0.44144,     0.44244,     0.44344,     0.44444,     0.44545,     0.44645,     0.44745,     0.44845,     0.44945,     0.45045,     0.45145,     0.45245,     0.45345,     0.45445,     0.45546,\n",
              "           0.45646,     0.45746,     0.45846,     0.45946,     0.46046,     0.46146,     0.46246,     0.46346,     0.46446,     0.46547,     0.46647,     0.46747,     0.46847,     0.46947,     0.47047,     0.47147,     0.47247,     0.47347,     0.47447,     0.47548,     0.47648,     0.47748,     0.47848,     0.47948,\n",
              "           0.48048,     0.48148,     0.48248,     0.48348,     0.48448,     0.48549,     0.48649,     0.48749,     0.48849,     0.48949,     0.49049,     0.49149,     0.49249,     0.49349,     0.49449,      0.4955,      0.4965,      0.4975,      0.4985,      0.4995,      0.5005,      0.5015,      0.5025,      0.5035,\n",
              "            0.5045,     0.50551,     0.50651,     0.50751,     0.50851,     0.50951,     0.51051,     0.51151,     0.51251,     0.51351,     0.51451,     0.51552,     0.51652,     0.51752,     0.51852,     0.51952,     0.52052,     0.52152,     0.52252,     0.52352,     0.52452,     0.52553,     0.52653,     0.52753,\n",
              "           0.52853,     0.52953,     0.53053,     0.53153,     0.53253,     0.53353,     0.53453,     0.53554,     0.53654,     0.53754,     0.53854,     0.53954,     0.54054,     0.54154,     0.54254,     0.54354,     0.54454,     0.54555,     0.54655,     0.54755,     0.54855,     0.54955,     0.55055,     0.55155,\n",
              "           0.55255,     0.55355,     0.55455,     0.55556,     0.55656,     0.55756,     0.55856,     0.55956,     0.56056,     0.56156,     0.56256,     0.56356,     0.56456,     0.56557,     0.56657,     0.56757,     0.56857,     0.56957,     0.57057,     0.57157,     0.57257,     0.57357,     0.57457,     0.57558,\n",
              "           0.57658,     0.57758,     0.57858,     0.57958,     0.58058,     0.58158,     0.58258,     0.58358,     0.58458,     0.58559,     0.58659,     0.58759,     0.58859,     0.58959,     0.59059,     0.59159,     0.59259,     0.59359,     0.59459,      0.5956,      0.5966,      0.5976,      0.5986,      0.5996,\n",
              "            0.6006,      0.6016,      0.6026,      0.6036,      0.6046,     0.60561,     0.60661,     0.60761,     0.60861,     0.60961,     0.61061,     0.61161,     0.61261,     0.61361,     0.61461,     0.61562,     0.61662,     0.61762,     0.61862,     0.61962,     0.62062,     0.62162,     0.62262,     0.62362,\n",
              "           0.62462,     0.62563,     0.62663,     0.62763,     0.62863,     0.62963,     0.63063,     0.63163,     0.63263,     0.63363,     0.63463,     0.63564,     0.63664,     0.63764,     0.63864,     0.63964,     0.64064,     0.64164,     0.64264,     0.64364,     0.64464,     0.64565,     0.64665,     0.64765,\n",
              "           0.64865,     0.64965,     0.65065,     0.65165,     0.65265,     0.65365,     0.65465,     0.65566,     0.65666,     0.65766,     0.65866,     0.65966,     0.66066,     0.66166,     0.66266,     0.66366,     0.66466,     0.66567,     0.66667,     0.66767,     0.66867,     0.66967,     0.67067,     0.67167,\n",
              "           0.67267,     0.67367,     0.67467,     0.67568,     0.67668,     0.67768,     0.67868,     0.67968,     0.68068,     0.68168,     0.68268,     0.68368,     0.68468,     0.68569,     0.68669,     0.68769,     0.68869,     0.68969,     0.69069,     0.69169,     0.69269,     0.69369,     0.69469,      0.6957,\n",
              "            0.6967,      0.6977,      0.6987,      0.6997,      0.7007,      0.7017,      0.7027,      0.7037,      0.7047,     0.70571,     0.70671,     0.70771,     0.70871,     0.70971,     0.71071,     0.71171,     0.71271,     0.71371,     0.71471,     0.71572,     0.71672,     0.71772,     0.71872,     0.71972,\n",
              "           0.72072,     0.72172,     0.72272,     0.72372,     0.72472,     0.72573,     0.72673,     0.72773,     0.72873,     0.72973,     0.73073,     0.73173,     0.73273,     0.73373,     0.73473,     0.73574,     0.73674,     0.73774,     0.73874,     0.73974,     0.74074,     0.74174,     0.74274,     0.74374,\n",
              "           0.74474,     0.74575,     0.74675,     0.74775,     0.74875,     0.74975,     0.75075,     0.75175,     0.75275,     0.75375,     0.75475,     0.75576,     0.75676,     0.75776,     0.75876,     0.75976,     0.76076,     0.76176,     0.76276,     0.76376,     0.76476,     0.76577,     0.76677,     0.76777,\n",
              "           0.76877,     0.76977,     0.77077,     0.77177,     0.77277,     0.77377,     0.77477,     0.77578,     0.77678,     0.77778,     0.77878,     0.77978,     0.78078,     0.78178,     0.78278,     0.78378,     0.78478,     0.78579,     0.78679,     0.78779,     0.78879,     0.78979,     0.79079,     0.79179,\n",
              "           0.79279,     0.79379,     0.79479,      0.7958,      0.7968,      0.7978,      0.7988,      0.7998,      0.8008,      0.8018,      0.8028,      0.8038,      0.8048,     0.80581,     0.80681,     0.80781,     0.80881,     0.80981,     0.81081,     0.81181,     0.81281,     0.81381,     0.81481,     0.81582,\n",
              "           0.81682,     0.81782,     0.81882,     0.81982,     0.82082,     0.82182,     0.82282,     0.82382,     0.82482,     0.82583,     0.82683,     0.82783,     0.82883,     0.82983,     0.83083,     0.83183,     0.83283,     0.83383,     0.83483,     0.83584,     0.83684,     0.83784,     0.83884,     0.83984,\n",
              "           0.84084,     0.84184,     0.84284,     0.84384,     0.84484,     0.84585,     0.84685,     0.84785,     0.84885,     0.84985,     0.85085,     0.85185,     0.85285,     0.85385,     0.85485,     0.85586,     0.85686,     0.85786,     0.85886,     0.85986,     0.86086,     0.86186,     0.86286,     0.86386,\n",
              "           0.86486,     0.86587,     0.86687,     0.86787,     0.86887,     0.86987,     0.87087,     0.87187,     0.87287,     0.87387,     0.87487,     0.87588,     0.87688,     0.87788,     0.87888,     0.87988,     0.88088,     0.88188,     0.88288,     0.88388,     0.88488,     0.88589,     0.88689,     0.88789,\n",
              "           0.88889,     0.88989,     0.89089,     0.89189,     0.89289,     0.89389,     0.89489,      0.8959,      0.8969,      0.8979,      0.8989,      0.8999,      0.9009,      0.9019,      0.9029,      0.9039,      0.9049,     0.90591,     0.90691,     0.90791,     0.90891,     0.90991,     0.91091,     0.91191,\n",
              "           0.91291,     0.91391,     0.91491,     0.91592,     0.91692,     0.91792,     0.91892,     0.91992,     0.92092,     0.92192,     0.92292,     0.92392,     0.92492,     0.92593,     0.92693,     0.92793,     0.92893,     0.92993,     0.93093,     0.93193,     0.93293,     0.93393,     0.93493,     0.93594,\n",
              "           0.93694,     0.93794,     0.93894,     0.93994,     0.94094,     0.94194,     0.94294,     0.94394,     0.94494,     0.94595,     0.94695,     0.94795,     0.94895,     0.94995,     0.95095,     0.95195,     0.95295,     0.95395,     0.95495,     0.95596,     0.95696,     0.95796,     0.95896,     0.95996,\n",
              "           0.96096,     0.96196,     0.96296,     0.96396,     0.96496,     0.96597,     0.96697,     0.96797,     0.96897,     0.96997,     0.97097,     0.97197,     0.97297,     0.97397,     0.97497,     0.97598,     0.97698,     0.97798,     0.97898,     0.97998,     0.98098,     0.98198,     0.98298,     0.98398,\n",
              "           0.98498,     0.98599,     0.98699,     0.98799,     0.98899,     0.98999,     0.99099,     0.99199,     0.99299,     0.99399,     0.99499,       0.996,       0.997,       0.998,       0.999,           1]), array([[          1,           1,           1,           1,           1,           1,           1,           1,           1,           1,           1,           1,           1,           1,           1,           1,           1,           1,           1,           1,           1,           1,           1,\n",
              "                  1,           1,           1,           1,           1,           1,           1,           1,           1,           1,           1,           1,           1,           1,           1,           1,           1,           1,           1,           1,           1,           1,           1,\n",
              "                  1,           1,           1,           1,           1,           1,           1,           1,           1,           1,           1,           1,           1,           1,           1,           1,           1,           1,           1,           1,           1,           1,           1,\n",
              "                  1,           1,           1,           1,           1,           1,           1,           1,           1,           1,           1,           1,           1,           1,           1,           1,           1,           1,           1,           1,           1,           1,           1,\n",
              "                  1,           1,           1,           1,           1,           1,           1,           1,           1,           1,           1,           1,           1,           1,           1,           1,           1,           1,           1,           1,           1,           1,           1,\n",
              "                  1,           1,           1,           1,           1,           1,           1,           1,           1,           1,           1,           1,           1,           1,           1,           1,           1,           1,           1,           1,           1,           1,           1,\n",
              "                  1,           1,           1,           1,           1,           1,           1,           1,           1,           1,           1,           1,           1,           1,           1,           1,           1,           1,           1,           1,           1,           1,           1,\n",
              "                  1,           1,           1,           1,           1,           1,           1,           1,           1,           1,           1,           1,           1,           1,           1,           1,           1,           1,           1,           1,           1,           1,           1,\n",
              "                  1,           1,           1,           1,           1,           1,           1,           1,           1,           1,           1,           1,           1,           1,           1,           1,           1,           1,           1,           1,           1,           1,           1,\n",
              "                  1,           1,           1,           1,           1,           1,           1,           1,           1,           1,           1,           1,           1,           1,           1,           1,           1,           1,           1,           1,           1,           1,           1,\n",
              "                  1,           1,           1,           1,           1,           1,           1,           1,           1,           1,           1,           1,           1,           1,           1,           1,           1,           1,           1,           1,           1,           1,           1,\n",
              "                  1,           1,           1,           1,           1,           1,           1,           1,           1,           1,           1,           1,           1,           1,           1,           1,           1,           1,           1,           1,           1,           1,           1,\n",
              "                  1,           1,           1,           1,           1,           1,           1,           1,           1,           1,           1,           1,           1,           1,           1,           1,           1,           1,           1,           1,           1,           1,           1,\n",
              "                  1,           1,           1,           1,           1,           1,           1,           1,           1,           1,           1,           1,           1,           1,           1,           1,           1,           1,           1,           1,           1,           1,           1,\n",
              "                  1,           1,           1,           1,           1,           1,           1,           1,           1,           1,           1,           1,           1,           1,           1,           1,           1,           1,           1,           1,           1,           1,           1,\n",
              "                  1,           1,           1,           1,           1,           1,           1,           1,           1,           1,           1,           1,           1,           1,           1,           1,           1,           1,           1,           1,           1,           1,           1,\n",
              "                  1,           1,           1,           1,           1,           1,           1,           1,           1,           1,           1,           1,           1,           1,           1,           1,           1,           1,           1,           1,           1,           1,           1,\n",
              "                  1,           1,           1,           1,           1,           1,           1,           1,           1,           1,           1,           1,           1,           1,           1,           1,           1,           1,           1,           1,           1,           1,           1,\n",
              "                  1,           1,           1,           1,           1,           1,           1,           1,           1,           1,           1,           1,           1,           1,           1,           1,           1,           1,           1,           1,           1,           1,           1,\n",
              "                  1,           1,           1,           1,           1,           1,           1,           1,           1,           1,           1,           1,           1,           1,           1,           1,           1,           1,           1,           1,           1,           1,           1,\n",
              "                  1,           1,           1,           1,           1,           1,           1,           1,           1,           1,           1,           1,           1,           1,           1,           1,           1,           1,           1,           1,           1,           1,           1,\n",
              "                  1,           1,           1,           1,           1,           1,           1,           1,           1,           1,           1,           1,           1,           1,           1,           1,           1,           1,           1,           1,           1,           1,           1,\n",
              "                  1,           1,           1,           1,           1,           1,           1,           1,           1,           1,           1,           1,           1,           1,           1,           1,           1,           1,           1,           1,           1,           1,           1,\n",
              "                  1,           1,           1,           1,           1,           1,           1,           1,           1,           1,           1,           1,           1,           1,           1,           1,           1,           1,           1,           1,           1,           1,           1,\n",
              "                  1,           1,           1,           1,           1,           1,           1,           1,           1,           1,           1,           1,           1,           1,           1,           1,           1,           1,           1,           1,           1,           1,           1,\n",
              "                  1,           1,           1,           1,           1,           1,           1,           1,           1,           1,           1,           1,           1,           1,           1,           1,           1,           1,           1,           1,           1,           1,           1,\n",
              "                  1,           1,           1,           1,           1,           1,           1,           1,           1,           1,           1,           1,           1,           1,           1,           1,           1,           1,           1,           1,           1,           1,           1,\n",
              "                  1,           1,           1,           1,           1,           1,           1,           1,           1,           1,           1,           1,           1,           1,           1,           1,           1,           1,           1,           1,           1,           1,           1,\n",
              "                  1,           1,           1,           1,           1,           1,           1,           1,           1,           1,           1,           1,           1,           1,           1,           1,           1,           1,           1,           1,           1,           1,           1,\n",
              "                  1,           1,           1,           1,           1,           1,           1,           1,           1,           1,           1,           1,           1,           1,           1,           1,           1,           1,           1,           1,           1,           1,           1,\n",
              "                  1,           1,           1,           1,           1,           1,           1,           1,           1,           1,           1,           1,           1,           1,           1,           1,           1,           1,           1,           1,           1,           1,           1,\n",
              "                  1,           1,           1,           1,           1,           1,           1,           1,           1,           1,           1,           1,           1,           1,           1,           1,           1,           1,           1,           1,           1,           1,           1,\n",
              "                  1,           1,           1,           1,           1,           1,           1,           1,           1,           1,           1,           1,           1,           1,           1,           1,           1,           1,           1,           1,           1,           1,           1,\n",
              "                  1,           1,           1,           1,           1,           1,           1,           1,           1,           1,           1,           1,           1,           1,           1,           1,           1,           1,           1,           1,           1,           1,           1,\n",
              "                  1,           1,           1,           1,           1,           1,           1,           1,           1,           1,           1,           1,           1,           1,           1,           1,           1,           1,           1,           1,           1,           1,           1,\n",
              "                  1,           1,           1,           1,           1,           1,           1,           1,           1,           1,           1,           1,           1,           1,           1,           1,           1,           1,           1,           1,           1,           1,           1,\n",
              "                  1,           1,           1,           1,           1,           1,           1,           1,           1,           1,           1,           1,           1,           1,           1,           1,           1,           1,           1,           1,           1,           1,           1,\n",
              "                  1,           1,           1,           1,           1,           1,           1,           1,           1,           1,           1,           1,           1,           1,           1,           1,           1,           1,           1,           1,           1,           1,           1,\n",
              "                  1,           1,           1,           1,           1,           1,           1,           1,           1,           1,           1,           1,           1,           1,           1,           1,           1,           1,           1,           1,           1,     0.99935,     0.99768,\n",
              "              0.996,     0.99433,     0.99265,     0.99098,      0.9893,     0.98763,     0.98595,     0.98428,      0.9826,     0.98093,     0.97925,     0.97758,      0.9759,     0.97423,     0.97255,     0.97088,      0.9692,     0.96753,     0.96585,     0.96418,      0.9625,     0.96083,     0.95915,\n",
              "            0.95748,      0.9558,     0.95413,     0.95245,     0.95078,      0.9491,     0.94743,     0.94575,     0.94408,      0.9424,     0.94073,     0.93906,     0.93738,     0.93571,     0.93403,     0.93236,     0.93068,     0.92901,     0.92733,     0.92566,     0.92398,     0.92231,     0.92063,\n",
              "            0.91896,     0.91728,     0.90766,     0.89342,     0.87918,     0.86495,     0.85071,     0.83648,     0.82633,     0.81733,     0.80834,     0.79935,     0.79036,     0.78137,     0.77238,     0.76339,     0.75439,     0.74699,      0.7411,     0.73521,     0.72932,     0.72342,     0.71753,\n",
              "            0.71164,     0.70575,     0.69986,     0.69397,     0.68808,     0.68219,      0.6763,     0.67041,     0.65775,     0.63335,     0.60894,     0.58454,     0.57084,      0.5577,     0.54456,     0.53142,     0.51827,     0.50513,     0.49132,     0.47709,     0.46285,     0.44862,     0.43438,\n",
              "            0.42014,     0.37362,     0.32334,     0.28917,     0.25501,      0.2338,     0.21482,     0.19583,     0.17685,     0.12709,           0]]), 'Confidence', 'Recall']]\n",
              "fitness: 0.7978545827272728\n",
              "keys: ['metrics/precision(B)', 'metrics/recall(B)', 'metrics/mAP50(B)', 'metrics/mAP50-95(B)']\n",
              "maps: array([    0.77595])\n",
              "names: {0: 'ids'}\n",
              "plot: True\n",
              "results_dict: {'metrics/precision(B)': 0.9875693000693001, 'metrics/recall(B)': 1.0, 'metrics/mAP50(B)': 0.995, 'metrics/mAP50-95(B)': 0.7759495363636364, 'fitness': 0.7978545827272728}\n",
              "save_dir: PosixPath('runs/detect/train2')\n",
              "speed: {'preprocess': 0.19953648249308267, 'inference': 9.20619567235311, 'loss': 0.0013113021850585938, 'postprocess': 1.3758540153503418}\n",
              "task: 'detect'"
            ]
          },
          "metadata": {},
          "execution_count": 6
        }
      ]
    },
    {
      "cell_type": "markdown",
      "source": [
        "After training , You could find the training results in the folder run/detect/train\n"
      ],
      "metadata": {
        "id": "xx9y0bQNSKIH"
      }
    },
    {
      "cell_type": "code",
      "source": [
        "#predicting the test set\n",
        "infer=YOLO('/content/runs/detect/train/weights/best.pt')\n",
        "infer.predict('/content/efg-3/test/images',save=True)"
      ],
      "metadata": {
        "id": "XcPPpaT8Mbw5",
        "colab": {
          "base_uri": "https://localhost:8080/"
        },
        "outputId": "2b06942e-eac7-4dc0-b100-de3e7139a288"
      },
      "execution_count": 8,
      "outputs": [
        {
          "output_type": "stream",
          "name": "stdout",
          "text": [
            "\n",
            "image 1/9 /content/efg-3/test/images/15_jpg.rf.1036f777ac8e7db60101c222f946ad89.jpg: 640x640 1 ids, 38.1ms\n",
            "image 2/9 /content/efg-3/test/images/21_jpg.rf.b06e0df3bf4da84b1b55fa21dc8e1dde.jpg: 640x640 1 ids, 35.9ms\n",
            "image 3/9 /content/efg-3/test/images/2_jpg.rf.75c33262be1cf23cfa385136b9aa001f.jpg: 640x640 2 idss, 30.6ms\n",
            "image 4/9 /content/efg-3/test/images/44_jpg.rf.c6b0b689232b1c61ad1aa307da216230.jpg: 640x640 1 ids, 30.7ms\n",
            "image 5/9 /content/efg-3/test/images/48_jpg.rf.8a8f2ff75e5b02d46ef4a1e474121a78.jpg: 640x640 1 ids, 30.6ms\n",
            "image 6/9 /content/efg-3/test/images/51_jpg.rf.634a3d69f3441485f82c69d103ceaa5a.jpg: 640x640 1 ids, 25.0ms\n",
            "image 7/9 /content/efg-3/test/images/52_jpg.rf.a19712a12453ca70fcef3c34235d574f.jpg: 640x640 2 idss, 25.0ms\n",
            "image 8/9 /content/efg-3/test/images/55_jpg.rf.a1dfac735d780d879eaf18ae2ef72e24.jpg: 640x640 1 ids, 25.0ms\n",
            "image 9/9 /content/efg-3/test/images/9_jpg.rf.dad7b871ba73024e336de85e597ac11f.jpg: 640x640 1 ids, 24.4ms\n",
            "Speed: 2.9ms preprocess, 29.5ms inference, 2.3ms postprocess per image at shape (1, 3, 640, 640)\n",
            "Results saved to \u001b[1mruns/detect/predict\u001b[0m\n"
          ]
        },
        {
          "output_type": "execute_result",
          "data": {
            "text/plain": [
              "[ultralytics.engine.results.Results object with attributes:\n",
              " \n",
              " boxes: ultralytics.engine.results.Boxes object\n",
              " keypoints: None\n",
              " masks: None\n",
              " names: {0: 'ids'}\n",
              " obb: None\n",
              " orig_img: array([[[45, 41, 36],\n",
              "         [43, 39, 34],\n",
              "         [43, 39, 34],\n",
              "         ...,\n",
              "         [ 9,  6,  2],\n",
              "         [ 9,  6,  2],\n",
              "         [ 8,  5,  1]],\n",
              " \n",
              "        [[44, 40, 35],\n",
              "         [42, 38, 33],\n",
              "         [41, 37, 32],\n",
              "         ...,\n",
              "         [10,  7,  3],\n",
              "         [10,  7,  3],\n",
              "         [ 9,  6,  2]],\n",
              " \n",
              "        [[46, 42, 37],\n",
              "         [44, 40, 35],\n",
              "         [42, 38, 33],\n",
              "         ...,\n",
              "         [11,  8,  4],\n",
              "         [11,  8,  4],\n",
              "         [11,  8,  4]],\n",
              " \n",
              "        ...,\n",
              " \n",
              "        [[13, 10,  6],\n",
              "         [14, 11,  7],\n",
              "         [13, 10,  6],\n",
              "         ...,\n",
              "         [ 9,  5,  4],\n",
              "         [ 9,  5,  4],\n",
              "         [ 9,  5,  4]],\n",
              " \n",
              "        [[10,  7,  3],\n",
              "         [13, 10,  6],\n",
              "         [13, 10,  6],\n",
              "         ...,\n",
              "         [ 9,  5,  4],\n",
              "         [ 9,  5,  4],\n",
              "         [ 9,  5,  4]],\n",
              " \n",
              "        [[13, 10,  6],\n",
              "         [18, 15, 11],\n",
              "         [18, 15, 11],\n",
              "         ...,\n",
              "         [ 9,  5,  4],\n",
              "         [ 9,  5,  4],\n",
              "         [ 9,  5,  4]]], dtype=uint8)\n",
              " orig_shape: (640, 640)\n",
              " path: '/content/efg-3/test/images/15_jpg.rf.1036f777ac8e7db60101c222f946ad89.jpg'\n",
              " probs: None\n",
              " save_dir: 'runs/detect/predict'\n",
              " speed: {'preprocess': 1.814126968383789, 'inference': 38.14697265625, 'postprocess': 3.119945526123047},\n",
              " ultralytics.engine.results.Results object with attributes:\n",
              " \n",
              " boxes: ultralytics.engine.results.Boxes object\n",
              " keypoints: None\n",
              " masks: None\n",
              " names: {0: 'ids'}\n",
              " obb: None\n",
              " orig_img: array([[[ 90,  84,  89],\n",
              "         [ 78,  72,  77],\n",
              "         [126, 120, 125],\n",
              "         ...,\n",
              "         [ 63,  66,  94],\n",
              "         [ 63,  65,  95],\n",
              "         [ 61,  63,  93]],\n",
              " \n",
              "        [[ 87,  81,  86],\n",
              "         [ 77,  71,  76],\n",
              "         [124, 118, 123],\n",
              "         ...,\n",
              "         [ 62,  65,  93],\n",
              "         [ 61,  63,  93],\n",
              "         [ 59,  61,  91]],\n",
              " \n",
              "        [[ 83,  77,  82],\n",
              "         [ 78,  72,  77],\n",
              "         [123, 117, 122],\n",
              "         ...,\n",
              "         [ 63,  66,  94],\n",
              "         [ 60,  62,  92],\n",
              "         [ 57,  59,  89]],\n",
              " \n",
              "        ...,\n",
              " \n",
              "        [[195, 194, 203],\n",
              "         [197, 196, 205],\n",
              "         [201, 198, 207],\n",
              "         ...,\n",
              "         [105, 105, 111],\n",
              "         [ 75,  75,  81],\n",
              "         [ 70,  70,  76]],\n",
              " \n",
              "        [[195, 194, 203],\n",
              "         [197, 196, 205],\n",
              "         [199, 198, 207],\n",
              "         ...,\n",
              "         [104, 107, 112],\n",
              "         [ 74,  77,  82],\n",
              "         [ 69,  72,  77]],\n",
              " \n",
              "        [[195, 194, 203],\n",
              "         [197, 196, 205],\n",
              "         [199, 198, 207],\n",
              "         ...,\n",
              "         [105, 108, 113],\n",
              "         [ 75,  78,  83],\n",
              "         [ 70,  73,  78]]], dtype=uint8)\n",
              " orig_shape: (640, 640)\n",
              " path: '/content/efg-3/test/images/21_jpg.rf.b06e0df3bf4da84b1b55fa21dc8e1dde.jpg'\n",
              " probs: None\n",
              " save_dir: 'runs/detect/predict'\n",
              " speed: {'preprocess': 9.69839096069336, 'inference': 35.88056564331055, 'postprocess': 2.335071563720703},\n",
              " ultralytics.engine.results.Results object with attributes:\n",
              " \n",
              " boxes: ultralytics.engine.results.Boxes object\n",
              " keypoints: None\n",
              " masks: None\n",
              " names: {0: 'ids'}\n",
              " obb: None\n",
              " orig_img: array([[[137, 123, 189],\n",
              "         [136, 122, 188],\n",
              "         [136, 122, 188],\n",
              "         ...,\n",
              "         [135, 128, 133],\n",
              "         [137, 130, 135],\n",
              "         [142, 135, 140]],\n",
              " \n",
              "        [[137, 123, 189],\n",
              "         [136, 122, 188],\n",
              "         [136, 122, 188],\n",
              "         ...,\n",
              "         [135, 128, 133],\n",
              "         [138, 131, 136],\n",
              "         [144, 137, 142]],\n",
              " \n",
              "        [[137, 123, 189],\n",
              "         [136, 122, 188],\n",
              "         [136, 122, 188],\n",
              "         ...,\n",
              "         [136, 129, 134],\n",
              "         [140, 133, 138],\n",
              "         [146, 139, 144]],\n",
              " \n",
              "        ...,\n",
              " \n",
              "        [[135, 122, 184],\n",
              "         [135, 122, 184],\n",
              "         [135, 122, 184],\n",
              "         ...,\n",
              "         [101,  97, 139],\n",
              "         [103,  99, 141],\n",
              "         [104, 100, 142]],\n",
              " \n",
              "        [[135, 122, 184],\n",
              "         [135, 122, 184],\n",
              "         [135, 122, 184],\n",
              "         ...,\n",
              "         [100,  96, 138],\n",
              "         [101,  97, 139],\n",
              "         [101,  97, 139]],\n",
              " \n",
              "        [[135, 122, 184],\n",
              "         [135, 122, 184],\n",
              "         [135, 122, 184],\n",
              "         ...,\n",
              "         [ 99,  95, 137],\n",
              "         [ 99,  95, 137],\n",
              "         [ 99,  95, 137]]], dtype=uint8)\n",
              " orig_shape: (640, 640)\n",
              " path: '/content/efg-3/test/images/2_jpg.rf.75c33262be1cf23cfa385136b9aa001f.jpg'\n",
              " probs: None\n",
              " save_dir: 'runs/detect/predict'\n",
              " speed: {'preprocess': 1.8525123596191406, 'inference': 30.643939971923828, 'postprocess': 1.9037723541259766},\n",
              " ultralytics.engine.results.Results object with attributes:\n",
              " \n",
              " boxes: ultralytics.engine.results.Boxes object\n",
              " keypoints: None\n",
              " masks: None\n",
              " names: {0: 'ids'}\n",
              " obb: None\n",
              " orig_img: array([[[53, 54, 50],\n",
              "         [53, 54, 50],\n",
              "         [53, 54, 50],\n",
              "         ...,\n",
              "         [46, 53, 56],\n",
              "         [46, 53, 56],\n",
              "         [46, 53, 56]],\n",
              " \n",
              "        [[53, 54, 50],\n",
              "         [53, 54, 50],\n",
              "         [53, 54, 50],\n",
              "         ...,\n",
              "         [46, 53, 56],\n",
              "         [46, 53, 56],\n",
              "         [46, 53, 56]],\n",
              " \n",
              "        [[53, 54, 50],\n",
              "         [53, 54, 50],\n",
              "         [53, 54, 50],\n",
              "         ...,\n",
              "         [46, 53, 56],\n",
              "         [46, 53, 56],\n",
              "         [46, 53, 56]],\n",
              " \n",
              "        ...,\n",
              " \n",
              "        [[ 2,  4,  5],\n",
              "         [ 2,  4,  5],\n",
              "         [ 2,  4,  5],\n",
              "         ...,\n",
              "         [12, 13, 17],\n",
              "         [12, 13, 17],\n",
              "         [12, 13, 17]],\n",
              " \n",
              "        [[ 2,  4,  5],\n",
              "         [ 2,  4,  5],\n",
              "         [ 2,  4,  5],\n",
              "         ...,\n",
              "         [14, 15, 19],\n",
              "         [14, 15, 19],\n",
              "         [14, 15, 19]],\n",
              " \n",
              "        [[ 2,  4,  5],\n",
              "         [ 2,  4,  5],\n",
              "         [ 2,  4,  5],\n",
              "         ...,\n",
              "         [15, 16, 20],\n",
              "         [15, 16, 20],\n",
              "         [15, 16, 20]]], dtype=uint8)\n",
              " orig_shape: (640, 640)\n",
              " path: '/content/efg-3/test/images/44_jpg.rf.c6b0b689232b1c61ad1aa307da216230.jpg'\n",
              " probs: None\n",
              " save_dir: 'runs/detect/predict'\n",
              " speed: {'preprocess': 1.856088638305664, 'inference': 30.715465545654297, 'postprocess': 2.002716064453125},\n",
              " ultralytics.engine.results.Results object with attributes:\n",
              " \n",
              " boxes: ultralytics.engine.results.Boxes object\n",
              " keypoints: None\n",
              " masks: None\n",
              " names: {0: 'ids'}\n",
              " obb: None\n",
              " orig_img: array([[[243, 243, 243],\n",
              "         [243, 243, 243],\n",
              "         [243, 243, 243],\n",
              "         ...,\n",
              "         [238, 238, 238],\n",
              "         [238, 238, 238],\n",
              "         [238, 238, 238]],\n",
              " \n",
              "        [[243, 243, 243],\n",
              "         [243, 243, 243],\n",
              "         [243, 243, 243],\n",
              "         ...,\n",
              "         [238, 238, 238],\n",
              "         [238, 238, 238],\n",
              "         [238, 238, 238]],\n",
              " \n",
              "        [[243, 243, 243],\n",
              "         [243, 243, 243],\n",
              "         [243, 243, 243],\n",
              "         ...,\n",
              "         [238, 238, 238],\n",
              "         [238, 238, 238],\n",
              "         [238, 238, 238]],\n",
              " \n",
              "        ...,\n",
              " \n",
              "        [[246, 246, 246],\n",
              "         [246, 246, 246],\n",
              "         [246, 246, 246],\n",
              "         ...,\n",
              "         [246, 246, 246],\n",
              "         [246, 246, 246],\n",
              "         [246, 246, 246]],\n",
              " \n",
              "        [[246, 246, 246],\n",
              "         [246, 246, 246],\n",
              "         [246, 246, 246],\n",
              "         ...,\n",
              "         [246, 246, 246],\n",
              "         [246, 246, 246],\n",
              "         [246, 246, 246]],\n",
              " \n",
              "        [[246, 246, 246],\n",
              "         [246, 246, 246],\n",
              "         [246, 246, 246],\n",
              "         ...,\n",
              "         [246, 246, 246],\n",
              "         [246, 246, 246],\n",
              "         [246, 246, 246]]], dtype=uint8)\n",
              " orig_shape: (640, 640)\n",
              " path: '/content/efg-3/test/images/48_jpg.rf.8a8f2ff75e5b02d46ef4a1e474121a78.jpg'\n",
              " probs: None\n",
              " save_dir: 'runs/detect/predict'\n",
              " speed: {'preprocess': 1.7724037170410156, 'inference': 30.574798583984375, 'postprocess': 2.0437240600585938},\n",
              " ultralytics.engine.results.Results object with attributes:\n",
              " \n",
              " boxes: ultralytics.engine.results.Boxes object\n",
              " keypoints: None\n",
              " masks: None\n",
              " names: {0: 'ids'}\n",
              " obb: None\n",
              " orig_img: array([[[ 76, 102, 126],\n",
              "         [ 81, 107, 131],\n",
              "         [ 85, 111, 135],\n",
              "         ...,\n",
              "         [238, 247, 226],\n",
              "         [238, 247, 226],\n",
              "         [235, 247, 225]],\n",
              " \n",
              "        [[ 79, 105, 129],\n",
              "         [ 82, 108, 132],\n",
              "         [ 85, 111, 135],\n",
              "         ...,\n",
              "         [240, 247, 226],\n",
              "         [238, 247, 227],\n",
              "         [235, 247, 225]],\n",
              " \n",
              "        [[ 83, 109, 133],\n",
              "         [ 84, 110, 134],\n",
              "         [ 85, 111, 135],\n",
              "         ...,\n",
              "         [240, 246, 227],\n",
              "         [238, 246, 229],\n",
              "         [238, 247, 227]],\n",
              " \n",
              "        ...,\n",
              " \n",
              "        [[ 25,  36,  68],\n",
              "         [ 27,  38,  70],\n",
              "         [ 30,  41,  73],\n",
              "         ...,\n",
              "         [ 74, 140, 191],\n",
              "         [ 76, 141, 192],\n",
              "         [ 78, 143, 194]],\n",
              " \n",
              "        [[ 26,  37,  69],\n",
              "         [ 28,  39,  71],\n",
              "         [ 31,  42,  74],\n",
              "         ...,\n",
              "         [ 70, 139, 189],\n",
              "         [ 74, 140, 193],\n",
              "         [ 76, 142, 195]],\n",
              " \n",
              "        [[ 27,  38,  70],\n",
              "         [ 28,  39,  71],\n",
              "         [ 30,  41,  73],\n",
              "         ...,\n",
              "         [ 67, 136, 186],\n",
              "         [ 70, 136, 189],\n",
              "         [ 72, 138, 191]]], dtype=uint8)\n",
              " orig_shape: (640, 640)\n",
              " path: '/content/efg-3/test/images/51_jpg.rf.634a3d69f3441485f82c69d103ceaa5a.jpg'\n",
              " probs: None\n",
              " save_dir: 'runs/detect/predict'\n",
              " speed: {'preprocess': 1.7762184143066406, 'inference': 24.983882904052734, 'postprocess': 3.072977066040039},\n",
              " ultralytics.engine.results.Results object with attributes:\n",
              " \n",
              " boxes: ultralytics.engine.results.Boxes object\n",
              " keypoints: None\n",
              " masks: None\n",
              " names: {0: 'ids'}\n",
              " obb: None\n",
              " orig_img: array([[[154, 183, 210],\n",
              "         [154, 183, 210],\n",
              "         [154, 183, 210],\n",
              "         ...,\n",
              "         [ 76, 111, 151],\n",
              "         [ 76, 111, 151],\n",
              "         [ 76, 111, 151]],\n",
              " \n",
              "        [[154, 183, 210],\n",
              "         [154, 183, 210],\n",
              "         [154, 183, 210],\n",
              "         ...,\n",
              "         [ 78, 113, 153],\n",
              "         [ 78, 113, 153],\n",
              "         [ 78, 113, 153]],\n",
              " \n",
              "        [[153, 182, 209],\n",
              "         [153, 182, 209],\n",
              "         [153, 182, 209],\n",
              "         ...,\n",
              "         [ 82, 118, 158],\n",
              "         [ 81, 117, 157],\n",
              "         [ 80, 116, 156]],\n",
              " \n",
              "        ...,\n",
              " \n",
              "        [[134, 162, 196],\n",
              "         [134, 162, 196],\n",
              "         [134, 162, 196],\n",
              "         ...,\n",
              "         [146, 186, 211],\n",
              "         [146, 186, 211],\n",
              "         [146, 186, 211]],\n",
              " \n",
              "        [[135, 163, 197],\n",
              "         [135, 163, 197],\n",
              "         [135, 163, 197],\n",
              "         ...,\n",
              "         [146, 186, 211],\n",
              "         [146, 186, 211],\n",
              "         [146, 186, 211]],\n",
              " \n",
              "        [[137, 165, 199],\n",
              "         [137, 165, 199],\n",
              "         [137, 165, 199],\n",
              "         ...,\n",
              "         [146, 186, 211],\n",
              "         [146, 186, 211],\n",
              "         [146, 186, 211]]], dtype=uint8)\n",
              " orig_shape: (640, 640)\n",
              " path: '/content/efg-3/test/images/52_jpg.rf.a19712a12453ca70fcef3c34235d574f.jpg'\n",
              " probs: None\n",
              " save_dir: 'runs/detect/predict'\n",
              " speed: {'preprocess': 2.1820068359375, 'inference': 25.037527084350586, 'postprocess': 2.084493637084961},\n",
              " ultralytics.engine.results.Results object with attributes:\n",
              " \n",
              " boxes: ultralytics.engine.results.Boxes object\n",
              " keypoints: None\n",
              " masks: None\n",
              " names: {0: 'ids'}\n",
              " obb: None\n",
              " orig_img: array([[[135, 149, 145],\n",
              "         [135, 149, 145],\n",
              "         [134, 148, 144],\n",
              "         ...,\n",
              "         [132, 146, 142],\n",
              "         [133, 147, 143],\n",
              "         [134, 148, 144]],\n",
              " \n",
              "        [[138, 152, 148],\n",
              "         [137, 151, 147],\n",
              "         [136, 150, 146],\n",
              "         ...,\n",
              "         [140, 154, 150],\n",
              "         [141, 155, 151],\n",
              "         [142, 156, 152]],\n",
              " \n",
              "        [[135, 149, 145],\n",
              "         [134, 148, 144],\n",
              "         [134, 148, 144],\n",
              "         ...,\n",
              "         [148, 162, 158],\n",
              "         [149, 163, 159],\n",
              "         [150, 164, 160]],\n",
              " \n",
              "        ...,\n",
              " \n",
              "        [[131, 145, 143],\n",
              "         [130, 144, 142],\n",
              "         [131, 145, 143],\n",
              "         ...,\n",
              "         [153, 170, 166],\n",
              "         [153, 170, 166],\n",
              "         [153, 170, 166]],\n",
              " \n",
              "        [[129, 143, 141],\n",
              "         [130, 144, 142],\n",
              "         [132, 146, 144],\n",
              "         ...,\n",
              "         [153, 170, 166],\n",
              "         [154, 171, 167],\n",
              "         [154, 171, 167]],\n",
              " \n",
              "        [[125, 139, 137],\n",
              "         [127, 141, 139],\n",
              "         [131, 145, 143],\n",
              "         ...,\n",
              "         [153, 170, 166],\n",
              "         [154, 171, 167],\n",
              "         [154, 171, 167]]], dtype=uint8)\n",
              " orig_shape: (640, 640)\n",
              " path: '/content/efg-3/test/images/55_jpg.rf.a1dfac735d780d879eaf18ae2ef72e24.jpg'\n",
              " probs: None\n",
              " save_dir: 'runs/detect/predict'\n",
              " speed: {'preprocess': 2.3331642150878906, 'inference': 24.987459182739258, 'postprocess': 2.1545886993408203},\n",
              " ultralytics.engine.results.Results object with attributes:\n",
              " \n",
              " boxes: ultralytics.engine.results.Boxes object\n",
              " keypoints: None\n",
              " masks: None\n",
              " names: {0: 'ids'}\n",
              " obb: None\n",
              " orig_img: array([[[132, 114, 113],\n",
              "         [136, 118, 117],\n",
              "         [141, 123, 122],\n",
              "         ...,\n",
              "         [182, 171, 151],\n",
              "         [190, 179, 159],\n",
              "         [200, 189, 167]],\n",
              " \n",
              "        [[134, 116, 115],\n",
              "         [139, 121, 120],\n",
              "         [145, 127, 126],\n",
              "         ...,\n",
              "         [191, 179, 161],\n",
              "         [199, 188, 168],\n",
              "         [209, 198, 176]],\n",
              " \n",
              "        [[138, 120, 119],\n",
              "         [143, 125, 124],\n",
              "         [148, 133, 131],\n",
              "         ...,\n",
              "         [203, 191, 173],\n",
              "         [210, 199, 179],\n",
              "         [218, 207, 187]],\n",
              " \n",
              "        ...,\n",
              " \n",
              "        [[ 49,  45,  51],\n",
              "         [ 50,  46,  52],\n",
              "         [ 52,  48,  54],\n",
              "         ...,\n",
              "         [ 99, 113, 131],\n",
              "         [ 95, 109, 128],\n",
              "         [ 91, 105, 124]],\n",
              " \n",
              "        [[ 51,  43,  53],\n",
              "         [ 52,  44,  54],\n",
              "         [ 53,  45,  55],\n",
              "         ...,\n",
              "         [ 99, 115, 132],\n",
              "         [ 94, 109, 128],\n",
              "         [ 91, 106, 125]],\n",
              " \n",
              "        [[ 50,  42,  52],\n",
              "         [ 51,  43,  53],\n",
              "         [ 53,  45,  55],\n",
              "         ...,\n",
              "         [ 99, 115, 132],\n",
              "         [ 95, 110, 129],\n",
              "         [ 91, 106, 125]]], dtype=uint8)\n",
              " orig_shape: (640, 640)\n",
              " path: '/content/efg-3/test/images/9_jpg.rf.dad7b871ba73024e336de85e597ac11f.jpg'\n",
              " probs: None\n",
              " save_dir: 'runs/detect/predict'\n",
              " speed: {'preprocess': 3.167867660522461, 'inference': 24.38950538635254, 'postprocess': 2.0949840545654297}]"
            ]
          },
          "metadata": {},
          "execution_count": 8
        }
      ]
    },
    {
      "cell_type": "markdown",
      "source": [
        "Prediction resluts are saved in run/detect/train/predict\n",
        "you can view the bounding boxes for images are good so far although some images have two bounding boxes which is a problem\n",
        "==>\n",
        "* If they aren't overlapping and we are sure one of them is the correct one we can choose it as it's usually has the highest confidence\n",
        "* If they are overlapping and none of them is correct then it would be better if we retrain the model with more data or more epochs may be this may improve its performance\n"
      ],
      "metadata": {
        "id": "K-p68fn0UkMX"
      }
    },
    {
      "cell_type": "markdown",
      "source": [
        "<font color='red'>After predicting the bounding box then we need to inpaint this bounding box using background color\n",
        "but unforutnately all my trials to do that couldn't acheive this </font>"
      ],
      "metadata": {
        "id": "Pej0H6TAVWV5"
      }
    },
    {
      "cell_type": "markdown",
      "source": [
        "Model weihgts can't be uploaded to github due to size limit so it will be uploaded to drive\n",
        "You can use them to predict directly without retraining the model , just add them here to the runtime and adjust the path\n",
        "[Weights link](https://drive.google.com/drive/folders/11aLE6QDlpltnHPnFbyfZdHLJlqV2Kuz8?usp=sharing)"
      ],
      "metadata": {
        "id": "STk7rZyOe6Nj"
      }
    }
  ]
}